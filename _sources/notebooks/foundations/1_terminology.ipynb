{
 "cells": [
  {
   "cell_type": "markdown",
   "metadata": {
    "editable": true,
    "slideshow": {
     "slide_type": ""
    },
    "tags": []
   },
   "source": [
    "<img src=\"https://d2pn8kiwq2w21t.cloudfront.net/images/karin_animation.width-1024.gif\" alt=\"https://www.jpl.nasa.gov/edu/news/2022/12/8/nasa-mission-takes-a-deep-dive-into-earths-surface-water/ Image credit: NASA/JPL-Caltech\"></img>"
   ]
  },
  {
   "cell_type": "markdown",
   "metadata": {},
   "source": [
    "# Great Circle Terminology"
   ]
  },
  {
   "cell_type": "markdown",
   "metadata": {},
   "source": [
    "---"
   ]
  },
  {
   "cell_type": "markdown",
   "metadata": {},
   "source": [
    "## Overview\n",
    "Great circles are powerful tools used in the navigation of ships and planes as well as in geoscience for working with remote sensing via satellites. Great circle mathematics make use of spherical geometry, where, rather than lines, shapes on a sphere are formed by the intersection of arcs along the curved surface.\n",
    "\n",
    "While spherical geometry played an important role historically in the fields of astronomy and navigation, its teaching has largely fallen out of favor since the 1950's making finding comphrenshive resources difficult.\n",
    "\n",
    "This notebook will cover the important and unique terminology used when working with Great Circles and spherical geometry.\n",
    "\n",
    "1. Spherical Geometry\n",
    "1. Great Circles\n",
    "1. Ellipsoids vs. Spheres\n",
    "1. Geodesy\n",
    "1. A Note on Resources"
   ]
  },
  {
   "cell_type": "markdown",
   "metadata": {},
   "source": [
    "## Prerequisites\n",
    "\n",
    "- **Time to learn**: 20 minutes"
   ]
  },
  {
   "cell_type": "markdown",
   "metadata": {},
   "source": [
    "---"
   ]
  },
  {
   "cell_type": "markdown",
   "metadata": {},
   "source": [
    "## Spherical Geometry\n",
    "\n",
    "### Spherical Trigonometry\n",
    "\n",
    "Spherical geometry (and one of it important branches: spherical trigonometry) provide solutions for relationshsips between the sides and angles on a sphere that are commonly used in right-angled triangles. Spheres are unique since unlike triangles, spheres have internal angles that add up to more than 180 degrees.\n",
    "\n",
    "> The sum of the angles of a spherical triangle is not equal to 180°. A sphere is a curved surface, but locally the laws of the flat (planar) Euclidean geometry are good approximations. In a small triangle on the face of the earth, the sum of the angles is only slightly more than 180 degrees\n",
    "> \n",
    "> [Wikipedia: Spherical geometry](https://en.wikipedia.org/wiki/Spherical_geometry)\n",
    "\n",
    "<img src=\"https://upload.wikimedia.org/wikipedia/commons/thumb/9/97/Triangles_%28spherical_geometry%29.jpg/1094px-Triangles_%28spherical_geometry%29.jpg\" alt=\"Great Circle USGS\" width=400></img>\n",
    "\n",
    "### Law of Cosines\n",
    "> \"The cosine rule is the fundamental identity of spherical trigonometry: all other identities, including the sine rule, may be derived from the cosine rule\" [(Wikiepedia)](https://en.wikipedia.org/wiki/Spherical_trigonometry)\n",
    "\n",
    "The law of cosines states that for the angles A, B, C and opposite sides a, b, c:\n",
    "\n",
    "$$cos(a) = cos(b)cos(c) + sin(b)sin(c)cos(A)$$\n",
    "$$cos(b) = cos(c)cos(a) + sin(c)sin(a)cos(B)$$\n",
    "$$cos(c) = cos(a)cos(b) + sin(a)sin(b)cos(C)$$\n",
    "\n",
    "### Law of Sines\n",
    "\n",
    "The spherical law of sines states that for the angles A, B, and C and the opposite of the sides a, b, c:\n",
    "\n",
    "$$\\frac{sin(A)}{sin(a)} = \\frac{sin(B)}{sin(b)} = \\frac{sin(C)}{sin(c)}$$"
   ]
  },
  {
   "cell_type": "markdown",
   "metadata": {},
   "source": [
    "## Great Circles\n",
    "\n",
    "### Great Circle Path vs. Great Circle Arc\n",
    "\n",
    "A great circle is the largest circle that can be formed on the surface of a sphere. A great circle is created by the intersection of a plane that also passes through the center of the sphere.\n",
    "\n",
    "All great circles:\n",
    "- Intersect the center of the Earth\n",
    "- Divide the Earth in half\n",
    "- Represent the shortest distance between any two points on the surface of the Earth\n",
    "\n",
    "For example, the equator is an example of a great circle. The equator can be imagined as the path formed by a plane cutting through the center of the planet and intersecting the center.\n",
    "\n",
    "A great circle path is a closed path (-180 to 180 degrees longitude) that forms around the entire planet. A great circle path can be defined by a shorter great circle arc which can be formed by:\n",
    "\n",
    "- At least two points\n",
    "- One point, a bearing, and a distance"
   ]
  },
  {
   "cell_type": "markdown",
   "metadata": {},
   "source": [
    "## Ellipsoids vs. Spheres\n",
    "\n",
    "The earth is not round, instead it is an irregular ellipsoid known as a an oblate spheroid where the poles are slightly flatter. Spherical trigonometry uses a unit sphere, so working on Earth and without additional corrections, the measurements will contain up to 0.3% (22 km) when assuming the Earth is a perfect sphere ([see more](https://gis.stackexchange.com/questions/25494/how-accurate-is-approximating-earth-as-sphere)).\n",
    "\n",
    "To account for the errors when assuming the Earth is a sphere, there are various geodetic systems and ellipsoids to include in calculations."
   ]
  },
  {
   "cell_type": "markdown",
   "metadata": {},
   "source": [
    "## Geodesic and Python\n",
    "\n",
    "For the purpose of this notebook we will be taking advantage of two geodesic Python packages:\n",
    "\n",
    "- [`pyproj`: Python interface to PROJ (catographic projections and coordinate transformations library)](https://pyproj4.github.io/pyproj/stable/)\n",
    "- [`geopy`:  Python client for several popular geocoding web services](https://geopy.readthedocs.io/en/stable/#)\n",
    "\n",
    "`pyproj` and `geopy` both take advantage of different types of (optional) ellipsoids:"
   ]
  },
  {
   "cell_type": "code",
   "execution_count": null,
   "metadata": {},
   "outputs": [],
   "source": [
    "import pyproj\n",
    "for key in pyproj.list.get_ellps_map().keys():\n",
    "    print(f\"{key} = {pyproj.list.get_ellps_map()[key]}\")"
   ]
  },
  {
   "cell_type": "code",
   "execution_count": null,
   "metadata": {},
   "outputs": [],
   "source": [
    "from geopy import distance\n",
    "for key in distance.ELLIPSOIDS.keys():\n",
    "    print(f\"{key} = {distance.ELLIPSOIDS[key]}\")"
   ]
  },
  {
   "cell_type": "markdown",
   "metadata": {},
   "source": [
    "### **The standard reference ellipsoid for working with Earth is WGS-84**\n",
    "\n",
    "`geopy` by default makes use of WGS-84  which is a a unified global ellipsoid model that is used for GPS collected from satellites to calculate extremely preise measurements of the Earth. For the purpose of this notebook, this is the ellipsoid model we will be working with."
   ]
  },
  {
   "cell_type": "code",
   "execution_count": null,
   "metadata": {},
   "outputs": [],
   "source": [
    "print(pyproj.list.get_ellps_map()[\"WGS84\"])\n",
    "print(distance.ELLIPSOIDS[\"WGS-84\"])"
   ]
  },
  {
   "cell_type": "markdown",
   "metadata": {},
   "source": [
    "WGS-84 is an ellipsoid with a semi-major axis of `6378137.0` meters, an inverse flattening feature of `298.257223563`, and a flattening factor of `0.0033528106647474805`.\n",
    "\n",
    "[Learn more!](https://gisgeography.com/wgs84-world-geodetic-system/)"
   ]
  },
  {
   "cell_type": "markdown",
   "metadata": {},
   "source": [
    "## Geodesy\n",
    "\n",
    "Geodesy is the complex science of measuring the Earth's geometric shape.\n",
    "\n",
    "[Learn more!](https://oceanservice.noaa.gov/facts/geodesy.html)\n",
    "\n",
    "### Geodesic\n",
    "\n",
    "A geodesic is the shortest curved path between any two points on a surface. A \"straight line\" on the surface of a curved surface like a sphere form an arc\n",
    "\n",
    "> If an insect is placed on a surface and continually walks \"forward\", by definition it will trace out a geodesic\n",
    ">\n",
    "> [Wikipedia - Geodesic](https://en.wikipedia.org/wiki/Geodesic)\n",
    "\n",
    "<img src=\"https://upload.wikimedia.org/wikipedia/commons/6/6a/Insect_on_a_torus_tracing_out_a_non-trivial_geodesic.gif\" alt=\"Straight Line on a curved surface\" width=400></img>\n",
    "\n",
    "This is especially apparent when working with satellite data where the apparent \"straight path\" that a satellite will trace across the the surface of a planet."
   ]
  },
  {
   "cell_type": "markdown",
   "metadata": {},
   "source": [
    "## An Important Note on Resources\n",
    "\n",
    "Spherical geometry and resources associated with working with great circles can be difficult to find\n",
    "\n",
    "Here are a list of some for working mathematically with great circles:\n",
    "- [Ed Williams \"Avitation Formulary\"](https://edwilliams.org/avform147.htm)\n",
    "- [Movable Type Scripts](https://www.movable-type.co.uk/scripts/latlong.html)\n",
    "- \"Heavenly Mathematics: The Forgotten Art of Spherical Trigonometry\" by Glen Van Brummelen\n",
    "- \"Spherical Trigonometry: A Comprehensive Approach\" by Ira Arevalo Fajardo"
   ]
  },
  {
   "cell_type": "markdown",
   "metadata": {},
   "source": [
    "---"
   ]
  },
  {
   "cell_type": "markdown",
   "metadata": {},
   "source": [
    "## Summary\n",
    "\n",
    "A great circle is formed by a plane intersecting a sphere and the center, like the equator.\n",
    "\n",
    "\n",
    "Great circles make use of spherical geometry to measure features on the curved surface of a unit sphere. However, planets like Earth are not perfect spheres and to account for the error are combined with geodesic calculations to reduce the error in final calculations.\n",
    "\n",
    "### What's next?\n",
    "\n",
    "Coordinates and Great Circles"
   ]
  }
 ],
 "metadata": {
  "kernelspec": {
   "display_name": "Python 3 (ipykernel)",
   "language": "python",
   "name": "python3"
  },
  "language_info": {
   "codemirror_mode": {
    "name": "ipython",
    "version": 3
   },
   "file_extension": ".py",
   "mimetype": "text/x-python",
   "name": "python",
   "nbconvert_exporter": "python",
   "pygments_lexer": "ipython3",
   "version": "3.12.7"
  },
  "nbdime-conflicts": {
   "local_diff": [
    {
     "diff": [
      {
       "diff": [
        {
         "key": 0,
         "op": "addrange",
         "valuelist": [
          "Python 3"
         ]
        },
        {
         "key": 0,
         "length": 1,
         "op": "removerange"
        }
       ],
       "key": "display_name",
       "op": "patch"
      }
     ],
     "key": "kernelspec",
     "op": "patch"
    }
   ],
   "remote_diff": [
    {
     "diff": [
      {
       "diff": [
        {
         "key": 0,
         "op": "addrange",
         "valuelist": [
          "Python3"
         ]
        },
        {
         "key": 0,
         "length": 1,
         "op": "removerange"
        }
       ],
       "key": "display_name",
       "op": "patch"
      }
     ],
     "key": "kernelspec",
     "op": "patch"
    }
   ]
  },
  "toc-autonumbering": false
 },
 "nbformat": 4,
 "nbformat_minor": 4
}
