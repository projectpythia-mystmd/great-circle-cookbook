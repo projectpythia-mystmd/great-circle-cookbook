{
 "cells": [
  {
   "cell_type": "markdown",
   "metadata": {
    "editable": true,
    "slideshow": {
     "slide_type": ""
    },
    "tags": []
   },
   "source": [
    "<img src=\"https://spaceplace.nasa.gov/satellite/en/geostationary-orbit.en.gif\" alt=\"From Earth, a geostationary satellite looks like it is always in the same place, because it moves in the same direction and at the same rate the Earth spins. Image credit: NASA Solar System Exploration\"></img>"
   ]
  },
  {
   "cell_type": "markdown",
   "metadata": {},
   "source": [
    "# Coordinate Types"
   ]
  },
  {
   "cell_type": "markdown",
   "metadata": {},
   "source": [
    "---"
   ]
  },
  {
   "cell_type": "markdown",
   "metadata": {},
   "source": [
    "## Overview\n",
    "\n",
    "Great circles use different types of coordinates when working with unit spheres and ellipsoids. This notebook will cover the different types of coordinates and how to convert between them.\n",
    "\n",
    "1. Types of Coordinates\n",
    "1. Convert Coordinates to All Coordinate Types\n",
    "1. Plot Coordinates on a World Map"
   ]
  },
  {
   "cell_type": "markdown",
   "metadata": {},
   "source": [
    "## Prerequisites\n",
    "\n",
    "| Concepts | Importance | Notes |\n",
    "| --- | --- | --- |\n",
    "| [Numpy](https://foundations.projectpythia.org/core/numpy.html) | Necessary | Used to work with large arrays |\n",
    "| [Pandas](https://foundations.projectpythia.org/core/numpy.html) | Necessary | Used to read in and organize data (in particular dataframes) |\n",
    "| [Intro to Cartopy](https://foundations.projectpythia.org/core/cartopy/cartopy.html) | Helpful | Will be used for adding maps to plotting |\n",
    "| [Matplotlib](https://foundations.projectpythia.org/core/matplotlib.html) | Helpful | Will be used for plotting |\n",
    "\n",
    "- **Time to learn**: 20 minutes"
   ]
  },
  {
   "cell_type": "markdown",
   "metadata": {},
   "source": [
    "---"
   ]
  },
  {
   "cell_type": "markdown",
   "metadata": {},
   "source": [
    "## Imports"
   ]
  },
  {
   "cell_type": "code",
   "execution_count": null,
   "metadata": {},
   "outputs": [],
   "source": [
    "import numpy as np                                     # working with degrees and radians\n",
    "\n",
    "import matplotlib.pyplot as plt                        # plotting a graph\n",
    "from cartopy import crs as ccrs, feature as cfeature   # plotting a world map"
   ]
  },
  {
   "cell_type": "markdown",
   "metadata": {},
   "source": [
    "## Types of Coordinates"
   ]
  },
  {
   "cell_type": "markdown",
   "metadata": {},
   "source": [
    "### Geodesic Coordinates\n",
    "\n",
    "Geodesic coordinates are latitude and longtiude and are measured from -90° South to 90° North and -180° East to 180° West measured from Greenwich.\n",
    "\n",
    "<p align=\"center\">\n",
    "  <img src=\"https://upload.wikimedia.org/wikipedia/commons/thumb/e/ef/FedStats_Lat_long.svg/1024px-FedStats_Lat_long.svg.png\" alt=\"Longitude lines are perpendicular to and latitude lines are parallel to the Equator from Wikipedia\" width=400 />\n",
    "</p>"
   ]
  },
  {
   "cell_type": "markdown",
   "metadata": {},
   "source": [
    "### Cartesian Coordinates\n",
    "\n",
    "Cartesian coordinates describe points in space based on perpendicular axis lines that meet at a single point of origin, where any point's position is described based on the distance to the origin along xyz axis.\n",
    "\n",
    "<p align=\"center\">\n",
    "  <img src=\"https://upload.wikimedia.org/wikipedia/commons/thumb/6/69/Coord_system_CA_0.svg/1024px-Coord_system_CA_0.svg.png\" alt=\"A three dimensional Cartesian coordinate system, with origin O and axis lines X, Y and Z, oriented as shown by the arrows. The tick marks on the axes are one length unit apart. The black dot shows the point with coordinates x = 2, y = 3, and z = 4, or (2, 3, 4) from Wikipedia\" width=400 />\n",
    "</p>\n",
    "\n",
    "Image Source: [Three Dimensional Cartesian Coordinate System](https://en.wikipedia.org/wiki/Cartesian_coordinate_system)\n",
    "\n",
    "**Geodesic to Cartesian Coordinates**\n",
    "\n",
    "Assuming the Earth's radius is 6378137 meters then:\n",
    "\n",
    "$$x = radius * cos(latitude) * cos(longitude)$$\n",
    "$$y = radius * cos(latitude) * sin(longitude)$$\n",
    "$$z = radius * sin(latitude)$$"
   ]
  },
  {
   "cell_type": "code",
   "execution_count": null,
   "metadata": {},
   "outputs": [],
   "source": [
    "def cartesian_coordinates(latitude=None, longitude=None):\n",
    "    earth_radius = 6378137  # meters\n",
    "    latitude = np.deg2rad(latitude)\n",
    "    longitude = np.deg2rad(longitude)\n",
    "    cart_x = earth_radius * np.cos(latitude) * np.cos(longitude)\n",
    "    cart_y = earth_radius * np.cos(latitude) * np.sin(longitude)\n",
    "    cart_z = earth_radius * np.sin(latitude)\n",
    "    return cart_x, cart_y, cart_z"
   ]
  },
  {
   "cell_type": "markdown",
   "metadata": {},
   "source": [
    "### Spherical Coordinates\n",
    "\n",
    "Spherical coordinates describe points in space based on three values: radial distance (rho, r) along the radial line between point and the origin, polar angle (theta, θ) between the radial line and the polar axis, and azimuth angle (phi, φ) which is the angle of rotation of the radial line around the polar axis. With a fixed radius, the 3-point coordinates (r, θ, φ) provide a coordinate along a sphere.\n",
    "\n",
    "- Radial distance: distance from center to surface of sphere\n",
    "- Polar angle: angle between radial line and polar axis\n",
    "- Azimuth angle: angle around polar axis\n",
    "\n",
    "<p align=\"center\">\n",
    "  <img src=\"https://upload.wikimedia.org/wikipedia/commons/thumb/8/82/Sphericalcoordinates.svg/1024px-Sphericalcoordinates.svg.png\" alt=\"Spherical Coordinate Description from Wikipedia\" width=400 />\n",
    "</p>\n",
    "\n",
    "Image Source: [Wikipedia - Spherical Coordinate System](https://simple.wikipedia.org/wiki/Spherical_coordinate_system)\n",
    "\n",
    "Convert from cartesian (rectangular) coordinates spherical coordinates\n",
    "\n",
    "$$ρ^2 = x^2 + y^2 + z^2$$\n",
    "$$tan(θ) = \\frac{y}{x}$$\n",
    "$$φ = arccos(\\frac{x}{\\sqrt{x^2 + y^2 + z^2}})$$\n",
    "\n",
    "Where, rho (ρ), theta (θ), phi (φ):\n",
    "\n",
    "$$ρ = \\sqrt{x^2 + y^2 + z^2}$$\n",
    "$$θ = arctan(\\frac{y}{x})$$\n",
    "$$φ = arccos(\\frac{x}{ρ})$$"
   ]
  },
  {
   "cell_type": "code",
   "execution_count": null,
   "metadata": {},
   "outputs": [],
   "source": [
    "def cartesian_to_spherical_coordinates(cart_x=None, cart_y=None, cart_z=None):\n",
    "    rho = np.sqrt(cart_x**2 + cart_y**2 + cart_z**2)\n",
    "    theta = np.arctan(cart_y/cart_x)\n",
    "    phi = np.arccos(cart_z / rho)\n",
    "    return rho, theta, phi "
   ]
  },
  {
   "cell_type": "markdown",
   "metadata": {},
   "source": [
    "### Polar Coordinates\n",
    "\n",
    "Polar coordinates are a combination of latitude, longitude, and altitude from the center of the sphere (based on the radius).\n",
    "\n",
    "Assuming the Earth's radius is 6378137 meters then:\n",
    "\n",
    "$$x = cos(latitude) * cos(longitude) * radius$$\n",
    "$$y = cos(latitude) * sin(longitude) * radius$$\n",
    "$$z = sin(latitude) * radius$$"
   ]
  },
  {
   "cell_type": "code",
   "execution_count": null,
   "metadata": {},
   "outputs": [],
   "source": [
    "def polar_coordinates(latitude=None, longitude=None):\n",
    "    earth_radius = 6378137  # meters\n",
    "    latitude = np.deg2rad(latitude)\n",
    "    longitude = np.deg2rad(longitude)\n",
    "    polar_x = np.cos(latitude) * np.sin(longitude) * earth_radius\n",
    "    polar_y = np.cos(latitude) * np.cos(longitude) * earth_radius\n",
    "    polar_z = np.sin(latitude) * earth_radius\n",
    "    return polar_x, polar_y, polar_z"
   ]
  },
  {
   "cell_type": "markdown",
   "metadata": {},
   "source": [
    "## Convert City Coordinates to All Coordinate Types"
   ]
  },
  {
   "cell_type": "markdown",
   "metadata": {},
   "source": [
    "### Display Coordinates of Cities\n",
    "\n",
    "First, we will read in the latitude and longitude coordinates from locations csv:"
   ]
  },
  {
   "cell_type": "code",
   "execution_count": null,
   "metadata": {},
   "outputs": [],
   "source": [
    "import pandas as pd\n",
    "\n",
    "location_df = pd.read_csv(\"../location_coords.txt\")\n",
    "location_df = location_df.rename(columns=lambda x: x.strip()) # strip excess white space from column names and values\n",
    "location_df"
   ]
  },
  {
   "cell_type": "markdown",
   "metadata": {},
   "source": [
    "### Add Columns for Additional Coordinate Types"
   ]
  },
  {
   "cell_type": "code",
   "execution_count": null,
   "metadata": {},
   "outputs": [],
   "source": [
    "location_df[\"cart_x\"], location_df[\"cart_y\"], location_df[\"cart_z\"] = cartesian_coordinates(location_df[\"latitude\"],\n",
    "                                                                                            location_df[\"longitude\"])\n",
    "location_df[\"rho\"], location_df[\"theta\"], location_df[\"phi\"] = cartesian_to_spherical_coordinates(location_df[\"cart_x\"],\n",
    "                                                                                                  location_df[\"cart_y\"],\n",
    "                                                                                                  location_df[\"cart_z\"])\n",
    "location_df[\"polar_x\"], location_df[\"polar_y\"], location_df[\"polar_z\"] = polar_coordinates(location_df[\"latitude\"],\n",
    "                                                                                           location_df[\"longitude\"])\n",
    "\n",
    "location_df"
   ]
  },
  {
   "cell_type": "code",
   "execution_count": null,
   "metadata": {},
   "outputs": [],
   "source": [
    "# Save Output to a New Text File\n",
    "location_df.to_csv(\"../location_full_coords.txt\", index=False)"
   ]
  },
  {
   "cell_type": "markdown",
   "metadata": {},
   "source": [
    "## Plot Coordinates"
   ]
  },
  {
   "cell_type": "markdown",
   "metadata": {},
   "source": [
    "### World Map\n",
    "\n",
    "Full world map from -180-180 and -90-90:\n",
    "```\n",
    "longitude east = 180\n",
    "\n",
    "longitude west = -180\n",
    "\n",
    "latitude north = 90\n",
    "\n",
    "latitude south = -90\n",
    "```"
   ]
  },
  {
   "cell_type": "code",
   "execution_count": null,
   "metadata": {},
   "outputs": [],
   "source": [
    "# Set up world map plot\n",
    "fig = plt.subplots(figsize=(15, 10))\n",
    "projection_map = ccrs.PlateCarree()\n",
    "ax = plt.axes(projection=projection_map)\n",
    "lon_west, lon_east, lat_south, lat_north = -180, 180, -90, 90\n",
    "ax.set_extent([lon_west, lon_east, lat_south, lat_north], crs=projection_map)\n",
    "ax.coastlines(color=\"black\")\n",
    "ax.add_feature(cfeature.BORDERS, edgecolor='grey')\n",
    "ax.add_feature(cfeature.STATES, edgecolor=\"grey\")\n",
    "    \n",
    "# Plot Latitude/Longitude Location\n",
    "longitudes = location_df[\"longitude\"] # longitude\n",
    "latitudes = location_df[\"latitude\"]   # latitude\n",
    "plt.scatter(longitudes, latitudes, c=\"red\")\n",
    "\n",
    "plt.title(\"World Map with Locations\")\n",
    "plt.show()"
   ]
  },
  {
   "cell_type": "markdown",
   "metadata": {},
   "source": [
    "### United States Map\n",
    "\n",
    "Map of the United States roughly from -130 to -60 and 20 to 60:\n",
    "```\n",
    "longitude east = -60\n",
    "\n",
    "longitude west = -130\n",
    "\n",
    "latitude north = 60\n",
    "\n",
    "latitude south = 20\n",
    "```"
   ]
  },
  {
   "cell_type": "code",
   "execution_count": null,
   "metadata": {},
   "outputs": [],
   "source": [
    "# Set up United States map plot\n",
    "fig = plt.subplots(figsize=(15, 10))\n",
    "projection_map = ccrs.PlateCarree()\n",
    "ax = plt.axes(projection=projection_map)\n",
    "lon_west, lon_east, lat_south, lat_north = -130, -60, 20, 60\n",
    "ax.set_extent([lon_west, lon_east, lat_south, lat_north], crs=projection_map)\n",
    "ax.coastlines(color=\"black\")\n",
    "ax.add_feature(cfeature.BORDERS, edgecolor='grey')\n",
    "ax.add_feature(cfeature.STATES, edgecolor=\"grey\")\n",
    "    \n",
    "# Plot Latitude/Longitude Location\n",
    "longitudes = location_df[\"longitude\"] # longitude\n",
    "latitudes = location_df[\"latitude\"]   # latitude\n",
    "plt.scatter(longitudes, latitudes, c=\"red\")\n",
    "\n",
    "plt.title(\"United States Map with Locations\")\n",
    "plt.show()"
   ]
  },
  {
   "cell_type": "markdown",
   "metadata": {},
   "source": [
    "---"
   ]
  },
  {
   "cell_type": "markdown",
   "metadata": {},
   "source": [
    "## Summary\n",
    "\n",
    "Coordinates on the Earth are measured in many different types of coordinate systems: Geodesic (latitude/longitude), cartesian, spherical, and polar. These coordinates will make future calculations simpler by converting a 2D coordinate like latitude/longitude into a 3D space that can be used for vector calculations.\n",
    "\n",
    "In Python, coordinates can be mapped on to a world map via `matplotlib` and `cartopy`.\n",
    "\n",
    "### What's next?\n",
    "\n",
    "Great Circle arcs and paths\n"
   ]
  },
  {
   "cell_type": "markdown",
   "metadata": {},
   "source": [
    "## Resources and references\n"
   ]
  },
  {
   "cell_type": "markdown",
   "metadata": {},
   "source": [
    "- [Ed Williams \"Avitation Formulary\"](https://edwilliams.org/avform147.htm)\n",
    "- [Movable Type Scripts](https://www.movable-type.co.uk/scripts/latlong.html)"
   ]
  }
 ],
 "metadata": {
  "kernelspec": {
   "display_name": "Python 3 (ipykernel)",
   "language": "python",
   "name": "python3"
  },
  "language_info": {
   "codemirror_mode": {
    "name": "ipython",
    "version": 3
   },
   "file_extension": ".py",
   "mimetype": "text/x-python",
   "name": "python",
   "nbconvert_exporter": "python",
   "pygments_lexer": "ipython3",
   "version": "3.12.7"
  },
  "nbdime-conflicts": {
   "local_diff": [
    {
     "diff": [
      {
       "diff": [
        {
         "key": 0,
         "op": "addrange",
         "valuelist": [
          "Python 3"
         ]
        },
        {
         "key": 0,
         "length": 1,
         "op": "removerange"
        }
       ],
       "key": "display_name",
       "op": "patch"
      }
     ],
     "key": "kernelspec",
     "op": "patch"
    }
   ],
   "remote_diff": [
    {
     "diff": [
      {
       "diff": [
        {
         "key": 0,
         "op": "addrange",
         "valuelist": [
          "Python3"
         ]
        },
        {
         "key": 0,
         "length": 1,
         "op": "removerange"
        }
       ],
       "key": "display_name",
       "op": "patch"
      }
     ],
     "key": "kernelspec",
     "op": "patch"
    }
   ]
  },
  "toc-autonumbering": false
 },
 "nbformat": 4,
 "nbformat_minor": 4
}
