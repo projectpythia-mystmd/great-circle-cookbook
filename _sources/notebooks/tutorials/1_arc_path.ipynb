{
 "cells": [
  {
   "cell_type": "markdown",
   "metadata": {},
   "source": [
    "<img src=\"https://j.gifs.com/vO2k6P.gif\" alt=\"Indiana Jones Plane Flying Gif\"></img>"
   ]
  },
  {
   "cell_type": "markdown",
   "metadata": {},
   "source": [
    "# Great Circle Arcs and Path"
   ]
  },
  {
   "cell_type": "markdown",
   "metadata": {},
   "source": [
    "---"
   ]
  },
  {
   "cell_type": "markdown",
   "metadata": {},
   "source": [
    "## Overview\n",
    "\n",
    "Imagine a plane flying from Cario to Hong Kong. To a passenger, the plane appears to travel a straight path, but the plane actually curves around the surface of the Earth held down by the gravity of the planet.\n",
    "\n",
    "Great circles are circles that circumnavigate the globe.\n",
    "\n",
    "1. Distance between Points on a Great Circle Arc\n",
    "1. Spherical Distance to Degrees\n",
    "1. Determine the Bearing of a Great Circle Arc\n",
    "1. Generate a Great Circle Arc with Intermediate Points\n",
    "1. Determine the Midpoint of a Great Circle Arc\n",
    "1. Generate a Great Circle Path\n",
    "1. Determine an Antipodal Point\n",
    "1. _Compare Great Circle Arc to Rhumb Line (TODO)_"
   ]
  },
  {
   "cell_type": "markdown",
   "metadata": {},
   "source": [
    "## Prerequisites\n",
    "\n",
    "| Concepts | Importance | Notes |\n",
    "| --- | --- | --- |\n",
    "| [Numpy](https://foundations.projectpythia.org/core/numpy.html) | Necessary | Used to work with large arrays |\n",
    "| [Pandas](https://foundations.projectpythia.org/core/numpy.html) | Necessary | Used to read in and organize data (in particular dataframes) |\n",
    "| [Intro to Cartopy](https://foundations.projectpythia.org/core/cartopy/cartopy.html) | Helpful | Will be used for adding maps to plotting |\n",
    "| [Matplotlib](https://foundations.projectpythia.org/core/matplotlib.html) | Helpful | Will be used for plotting |\n",
    "\n",
    "- **Time to learn**: 40 minutes"
   ]
  },
  {
   "cell_type": "markdown",
   "metadata": {},
   "source": [
    "---"
   ]
  },
  {
   "cell_type": "markdown",
   "metadata": {},
   "source": [
    "## Imports\n",
    "\n",
    "- Import Packages\n",
    "- Setup location dataframe with coordinates"
   ]
  },
  {
   "cell_type": "code",
   "execution_count": null,
   "metadata": {},
   "outputs": [],
   "source": [
    "import pandas as pd       # reading in data for location information from text file\n",
    "import numpy as np        # working with arrays, vectors, cross/dot products, and radians\n",
    "\n",
    "from pyproj import Geod   # working with the Earth as an ellipsod (WGS-84)\n",
    "import geopy.distance     # working with the Earth as an ellipsod"
   ]
  },
  {
   "cell_type": "code",
   "execution_count": null,
   "metadata": {},
   "outputs": [],
   "source": [
    "# Get all Coordinates for Locations\n",
    "location_df = pd.read_csv(\"../location_full_coords.txt\")\n",
    "location_df = location_df.rename(columns=lambda x: x.strip()) # strip excess white space from column names and values\n",
    "location_df.head()"
   ]
  },
  {
   "cell_type": "code",
   "execution_count": null,
   "metadata": {},
   "outputs": [],
   "source": [
    "location_df.index = location_df[\"name\"]"
   ]
  },
  {
   "cell_type": "markdown",
   "metadata": {},
   "source": [
    "## Distance Between Points on a Great Circle Arc"
   ]
  },
  {
   "cell_type": "markdown",
   "metadata": {},
   "source": [
    "### Determine Distance Between Points Mathematically via Unit Sphere\n",
    "\n",
    "Distance between point A (latA, lonA) and point B (latB, lonB):\n",
    "\n",
    "$$d=acos(sin(latA)*sin(latB)+cos(latA)*cos(latB)*cos(lonA-lonB))$$\n",
    "\n",
    "For shorter distances (with less rounding errors):\n",
    "\n",
    "$$d=2*asin(\\sqrt{sin(\\frac{latA-latB}{2})^2 + cos(latA)*cos(latB)*sin(\\frac{lonA-lonB}{2})^2})$$\n",
    "\n",
    "- [Ed Williams: Distance Between Points](https://edwilliams.org/avform147.htm#Dist)"
   ]
  },
  {
   "cell_type": "code",
   "execution_count": null,
   "metadata": {},
   "outputs": [],
   "source": [
    "def distance_between_points_default(start_point=None, end_point=None):\n",
    "    earth_radius = 6378137  # meters\n",
    "    latA = np.deg2rad(location_df.loc[start_point, \"latitude\"])\n",
    "    lonA = np.deg2rad(location_df.loc[start_point, \"longitude\"])\n",
    "    latB = np.deg2rad(location_df.loc[end_point, \"latitude\"])\n",
    "    lonB = np.deg2rad(location_df.loc[end_point, \"longitude\"])\n",
    "\n",
    "    distance_default = np.arccos(np.sin(latA)*np.sin(latB)+np.cos(latA)*np.cos(latB)*np.cos(lonA-lonB))\n",
    "    return distance_default * earth_radius"
   ]
  },
  {
   "cell_type": "code",
   "execution_count": null,
   "metadata": {},
   "outputs": [],
   "source": [
    "def distance_between_points_small(start_point=None, end_point=None):\n",
    "    earth_radius = 6378137  # meters\n",
    "    latA = np.deg2rad(location_df.loc[start_point, \"latitude\"])\n",
    "    lonA = np.deg2rad(location_df.loc[start_point, \"longitude\"])\n",
    "    latB = np.deg2rad(location_df.loc[end_point, \"latitude\"])\n",
    "    lonB = np.deg2rad(location_df.loc[end_point, \"longitude\"])\n",
    "\n",
    "    distance_small = 2 * np.arcsin(np.sqrt((np.sin((latA-latB)/2))**2 + np.cos(latA)*np.cos(latB)*(np.sin((lonA-lonB)/2))**2))\n",
    "    return distance_small * earth_radius"
   ]
  },
  {
   "cell_type": "markdown",
   "metadata": {},
   "source": [
    "Additional types of distance measuerments:\n",
    "- Haversine\n",
    "- Vincenty Sphere Great Circle Distance\n",
    "- Vincenty Ellipsoid Great Circle Distance\n",
    "- Meeus Great Circle Distance"
   ]
  },
  {
   "cell_type": "markdown",
   "metadata": {},
   "source": [
    "### Determine Distance Points via Python Package `pyproj`\n",
    "\n",
    "`pyproj` accounts for different ellipsoids like `WGS-84`.\n",
    "\n",
    "First, setup a ellipsoid to represent the Earth (\"WGS-84\"):"
   ]
  },
  {
   "cell_type": "code",
   "execution_count": null,
   "metadata": {},
   "outputs": [],
   "source": [
    "# Distance between Boulder and Boston\n",
    "geodesic = Geod(ellps=\"WGS84\")\n",
    "_, _, distance_meter =  geodesic.inv(location_df.loc[\"boulder\", \"longitude\"],\n",
    "                                     location_df.loc[\"boulder\", \"latitude\"],\n",
    "                                     location_df.loc[\"boston\", \"longitude\"],\n",
    "                                     location_df.loc[\"boston\", \"latitude\"])\n",
    "\n",
    "print(f\"Distance between coordinates (ellipsoid)   = {distance_meter/1000} km\")\n",
    "distance_unit_sphere_default = distance_between_points_default(\"boulder\", \"boston\")\n",
    "print(f\"Distance between coordinates (unit sphere) = {distance_unit_sphere_default/1000} km\")\n",
    "distance_unit_sphere_small = distance_between_points_small(\"boulder\", \"boston\")\n",
    "print(f\"Distance between coordinates (unit sphere) = {distance_unit_sphere_small/1000} km\")"
   ]
  },
  {
   "cell_type": "markdown",
   "metadata": {},
   "source": [
    "Compared to the distance from the associated airports in Denver and Boston ([DIA to Logan](https://www.greatcirclemap.com/?routes=DEN-BOS)) which has a distance of 2823 km, using Denver instead of Boulder."
   ]
  },
  {
   "cell_type": "markdown",
   "metadata": {},
   "source": [
    "## Spherical Distance to Degrees\n",
    "\n",
    "Convert a distance from meters to degrees, measured along the great circle sphere with a constant spherical radius of ~6371 km (mean radius of Earth).\n",
    "\n",
    "- See also: [ObsPy `kilometer2degrees()`](https://docs.obspy.org/packages/autogen/obspy.geodetics.base.kilometer2degrees.html)"
   ]
  },
  {
   "cell_type": "code",
   "execution_count": null,
   "metadata": {},
   "outputs": [],
   "source": [
    "# assumes a spherical Earth\n",
    "earth_radius = 6378.137 # km\n",
    "\n",
    "def km_to_degree_distance(distance_km=None):\n",
    "    return distance_km / (2 * earth_radius * np.pi / 360)\n",
    "\n",
    "def degree_to_km_distance(distance_degree=None):\n",
    "    return distance_degree * (2 * earth_radius * np.pi / 360)"
   ]
  },
  {
   "cell_type": "code",
   "execution_count": null,
   "metadata": {},
   "outputs": [],
   "source": [
    "print(f\"300 km to degrees = {km_to_degree_distance(300)} degrees\")\n",
    "print(f\"6.381307 degree to km = {degree_to_km_distance(6.381307)} km\")"
   ]
  },
  {
   "cell_type": "markdown",
   "metadata": {},
   "source": [
    "## Determine the Bearing of a Great Circle Arc"
   ]
  },
  {
   "cell_type": "markdown",
   "metadata": {},
   "source": [
    "### Determine the Bearing Mathematically via Unit Sphere\n",
    "\n",
    "Bearing between point A (latA, lonA) and point B (latB, lonB):\n",
    "\n",
    "$$x = cos(latA) * sin(latB) - sin(latA) * cos(latB) * cos(lonB - lonA)$$\n",
    "$$y = sin(lonB - lonA) * cos(latB)$$\n",
    "$$θ = atan2(y, x)$$\n",
    "\n",
    "- [Movable Type: Bearing](https://www.movable-type.co.uk/scripts/latlong.html#bearing)"
   ]
  },
  {
   "cell_type": "code",
   "execution_count": null,
   "metadata": {},
   "outputs": [],
   "source": [
    "def bearing_between_points_unit_sphere(start_point=None, end_point=None):\n",
    "    latA = np.deg2rad(location_df.loc[start_point, \"latitude\"])\n",
    "    lonA = np.deg2rad(location_df.loc[start_point, \"longitude\"])\n",
    "    latB = np.deg2rad(location_df.loc[end_point, \"latitude\"])\n",
    "    lonB = np.deg2rad(location_df.loc[end_point, \"longitude\"])\n",
    "\n",
    "    x = np.cos(latA) * np.sin(latB) - np.sin(latA) * np.cos(latB) * np.cos(lonB - lonA)\n",
    "    y = np.sin(lonB - lonA) * np.cos(latB)\n",
    "    bearing = np.arctan2(y, x)\n",
    "    return np.rad2deg(bearing) % 360"
   ]
  },
  {
   "cell_type": "markdown",
   "metadata": {},
   "source": [
    "### Determine the Bearing via Python Package `pyproj`\n",
    "\n",
    "`pyproj` accounts for different ellipsoids like `WGS-84`:"
   ]
  },
  {
   "cell_type": "code",
   "execution_count": null,
   "metadata": {},
   "outputs": [],
   "source": [
    "def bearing_between_points_ellps(start_point=None, end_point=None):\n",
    "    geodesic = Geod(ellps=\"WGS84\")\n",
    "    fwd_bearing, _, _ =  geodesic.inv(location_df.loc[start_point, \"longitude\"],\n",
    "                                        location_df.loc[start_point, \"latitude\"],\n",
    "                                        location_df.loc[end_point, \"longitude\"],\n",
    "                                        location_df.loc[end_point, \"latitude\"])\n",
    "    return fwd_bearing"
   ]
  },
  {
   "cell_type": "code",
   "execution_count": null,
   "metadata": {},
   "outputs": [],
   "source": [
    "### Compare Unit Sphere and Ellipsoid\n",
    "beaing_ellps = bearing_between_points_ellps(\"boulder\", \"boston\")\n",
    "print(f\"forward bearing between coordinates (ellipsoid)   = {beaing_ellps} Degrees\")\n",
    "bearing_us = bearing_between_points_unit_sphere(\"boulder\", \"boston\")\n",
    "print(f\"forward bearing between coordinates (unit sphere) = {bearing_us} Degrees\")"
   ]
  },
  {
   "cell_type": "markdown",
   "metadata": {},
   "source": [
    "## Generating a Great Circle Arc with Intermediates Points"
   ]
  },
  {
   "cell_type": "markdown",
   "metadata": {},
   "source": [
    "### Determine Intermediate Points Mathemetically via Unit Sphere\n",
    "Determine the points (lat, lon) a given fraction of a distance (d) between a starting points A (latA, lonA) and the final point B (latB, lonB) where f is a fraction along the great circle arc. `f=0` is point A and `f=1` is point B.\n",
    "\n",
    "> Note: The points cannot be antipodal because the path is undefined\n",
    "\n",
    "Where, antipodal is defined by:\n",
    "$$latA + latB = 0$$\n",
    "$$abs(lonA - lonB) = pi$$\n",
    "\n",
    "Where the distance between two points is the angular distance:\n",
    "\n",
    "$$d = \\frac{\\text{total distance of arc}}{\\text{earth's radius}}$$\n",
    "\n",
    "The intermediate points (lat, lon) along a given path starting point to end point:\n",
    "\n",
    "$$A = sin(\\frac{(1-f) * d}{sin(d)}$$\n",
    "$$B = \\frac{sin(f*d)}{sin(d)}$$\n",
    "$$x = A * cos(latA) * cos(lonA) + B * cos(latB) * cos(lonB)$$\n",
    "$$y = A * cos(latA) * sin(lonA) + B * cos(latB) * sin(lonB)$$\n",
    "$$z = A * sin(latA) + B * sin(latB)$$\n",
    "$$lat = atan2(z, \\sqrt{x^2 + y^2})$$\n",
    "$$lon = atan2(y, x)$$\n",
    "\n",
    "- [Ed Williams: Intermediate Points on a Great Circle](https://edwilliams.org/avform147.htm#Intermediate)\n",
    "- [Moveable Type: Intermediate Point](https://www.movable-type.co.uk/scripts/latlong.html#intermediate-point)"
   ]
  },
  {
   "cell_type": "code",
   "execution_count": null,
   "metadata": {},
   "outputs": [],
   "source": [
    "def intermediate_points(start_point=None, end_point=None,\n",
    "                        fraction=None, distance=None):\n",
    "    earth_radius = 6378137  # meters\n",
    "    total_distance = distance / earth_radius\n",
    "    latA = np.deg2rad(location_df.loc[start_point, \"latitude\"])\n",
    "    lonA = np.deg2rad(location_df.loc[start_point, \"longitude\"])\n",
    "    latB = np.deg2rad(location_df.loc[end_point, \"latitude\"])\n",
    "    lonB = np.deg2rad(location_df.loc[end_point, \"longitude\"])\n",
    "\n",
    "    A = np.sin((1-fraction) * total_distance) / np.sin(total_distance)\n",
    "    B = np.sin(fraction * total_distance) / np.sin(total_distance)\n",
    "    x = (A * np.cos(latA) * np.cos(lonA)) + (B * np.cos(latB) * np.cos(lonB))\n",
    "    y = (A * np.cos(latA) * np.sin(lonA)) + (B * np.cos(latB) * np.sin(lonB))\n",
    "    z = (A * np.sin(latA)) + (B * np.sin(latB))\n",
    "    lat = np.arctan2(z, np.sqrt(x**2 + y**2))\n",
    "    lon = np.arctan2(y, x)\n",
    "    return (np.rad2deg(lat), np.rad2deg(lon))\n",
    "\n",
    "def calculate_intermediate_pts(start_point=None, end_point=None,\n",
    "                               fraction=None, total_distance_meter=None):\n",
    "    fractions = np.arange(0, 1+fraction, fraction)\n",
    "    intermediate_lat_lon = []\n",
    "    for fractional in fractions:\n",
    "        intermediate_pts = intermediate_points(start_point, end_point,\n",
    "                                                fractional, total_distance_meter)\n",
    "        intermediate_lat_lon.append(intermediate_pts)\n",
    "    return intermediate_lat_lon"
   ]
  },
  {
   "cell_type": "markdown",
   "metadata": {},
   "source": [
    "### Determine Intermediate Points via Python Package `pyproj` and `geopy`\n",
    "\n",
    "1. Interpolate with N total equally spaced number of points\n",
    "2. Interpolate every N meters\n",
    "3. Interpolate a fractional distance along arc"
   ]
  },
  {
   "cell_type": "code",
   "execution_count": null,
   "metadata": {},
   "outputs": [],
   "source": [
    "def interpolate_points_along_gc(lat_start,\n",
    "                                lon_start,\n",
    "                                lat_end,\n",
    "                                lon_end,\n",
    "                                distance_between_points_meter): \n",
    "    lat_lon_points = [(lat_start, lon_start)]\n",
    "    \n",
    "    # move to next point when distance between points is less than the equal distance\n",
    "    move_to_next_point = True\n",
    "    while(move_to_next_point):\n",
    "        forward_bearing, _, distance_meters = geodesic.inv(lon_start,\n",
    "                                                            lat_start, \n",
    "                                                            lon_end,\n",
    "                                                            lat_end)\n",
    "        if distance_meters < distance_between_points_meter:\n",
    "            # ends before overshooting\n",
    "            move_to_next_point = False\n",
    "        else:\n",
    "            start_point = geopy.Point(lat_start, lon_start)\n",
    "            distance_to_move = geopy.distance.distance(\n",
    "                            kilometers=distance_between_points_meter /\n",
    "                            1000)  # distance to move towards the next point\n",
    "            final_position = distance_to_move.destination(\n",
    "                            start_point, bearing=forward_bearing)\n",
    "            lat_lon_points.append((final_position.latitude, final_position.longitude))\n",
    "            # new starting position is newly found end position\n",
    "            lon_start, lat_start = final_position.longitude, final_position.latitude\n",
    "    lat_lon_points.append((lat_end, lon_end))\n",
    "    return lat_lon_points"
   ]
  },
  {
   "cell_type": "markdown",
   "metadata": {},
   "source": [
    "### Plot Arcs as Points on a World Map"
   ]
  },
  {
   "cell_type": "code",
   "execution_count": null,
   "metadata": {},
   "outputs": [],
   "source": [
    "import matplotlib.pyplot as plt\n",
    "from cartopy import crs as ccrs, feature as cfeature\n",
    "\n",
    "def plot_coordinate(lst_of_coords=None, title=None):\n",
    "    # Set up world map plot on the United States\n",
    "    fig = plt.subplots(figsize=(15, 10))\n",
    "    projection_map = ccrs.PlateCarree()\n",
    "    ax = plt.axes(projection=projection_map)\n",
    "    lon_west, lon_east, lat_south, lat_north = -130, -60, 20, 60\n",
    "    ax.set_extent([lon_west, lon_east, lat_south, lat_north], crs=projection_map)\n",
    "    ax.coastlines(color=\"black\")\n",
    "    ax.add_feature(cfeature.STATES, edgecolor=\"black\")\n",
    "    \n",
    "    # Plot Latitude/Longitude Location\n",
    "    longitudes = [x[1] for x in lst_of_coords] # longitude\n",
    "    latitudes = [x[0] for x in lst_of_coords] # latitude\n",
    "    plt.plot(longitudes, latitudes)\n",
    "    plt.scatter(longitudes, latitudes)\n",
    "    \n",
    "    # Setup Axis Limits and Title/Labels\n",
    "    plt.title(title)\n",
    "    plt.show()"
   ]
  },
  {
   "cell_type": "markdown",
   "metadata": {},
   "source": [
    "#### Interpolate with N Total Equally Spaced Points"
   ]
  },
  {
   "cell_type": "code",
   "execution_count": null,
   "metadata": {},
   "outputs": [],
   "source": [
    "n_total_points = 10 # total points (n points)\n",
    "distance_between_points_meter = distance_meter / (n_total_points + 1)\n",
    "print(f\"Each point will be separated by {distance_between_points_meter} meters ({distance_between_points_meter/1000} km)\")"
   ]
  },
  {
   "cell_type": "code",
   "execution_count": null,
   "metadata": {},
   "outputs": [],
   "source": [
    "lat_start, lon_start = location_df.loc[[\"boulder\"]][\"latitude\"].iloc[0], location_df.loc[[\"boulder\"]][\"longitude\"].iloc[0]\n",
    "lat_end, lon_end = location_df.loc[[\"boston\"]][\"latitude\"].iloc[0], location_df.loc[[\"boston\"]][\"longitude\"].iloc[0]\n",
    "\n",
    "intermediate_geodesic = interpolate_points_along_gc(lat_start,\n",
    "                                          lon_start,\n",
    "                                          lat_end,\n",
    "                                          lon_end,\n",
    "                                          distance_between_points_meter)\n",
    "print(f\"{len(intermediate_geodesic)} Total Points\")\n",
    "intermediate_geodesic"
   ]
  },
  {
   "cell_type": "code",
   "execution_count": null,
   "metadata": {},
   "outputs": [],
   "source": [
    "plot_coordinate(intermediate_geodesic,\n",
    "                title=f\"Interpolate {n_total_points} Points\")"
   ]
  },
  {
   "cell_type": "markdown",
   "metadata": {},
   "source": [
    "#### Interpolate every N meters"
   ]
  },
  {
   "cell_type": "code",
   "execution_count": null,
   "metadata": {},
   "outputs": [],
   "source": [
    "distance_between_points_meter = 112000\n",
    "print(f\"Each point will be separated by {distance_between_points_meter} meters ({distance_between_points_meter/1000} km)\")"
   ]
  },
  {
   "cell_type": "code",
   "execution_count": null,
   "metadata": {},
   "outputs": [],
   "source": [
    "lat_start, lon_start = location_df.loc[\"boulder\", \"latitude\"], location_df.loc[\"boulder\", \"longitude\"]\n",
    "lat_end, lon_end = location_df.loc[\"boston\", \"latitude\"], location_df.loc[\"boston\", \"longitude\"]\n",
    "\n",
    "intermediate_geodesic = interpolate_points_along_gc(lat_start,\n",
    "                                          lon_start,\n",
    "                                          lat_end,\n",
    "                                          lon_end,\n",
    "                                          distance_between_points_meter)\n",
    "print(f\"{len(intermediate_geodesic)} Total Points\")\n",
    "intermediate_geodesic"
   ]
  },
  {
   "cell_type": "code",
   "execution_count": null,
   "metadata": {},
   "outputs": [],
   "source": [
    "plot_coordinate(intermediate_geodesic,\n",
    "                title=f\"Interpolate every {distance_between_points_meter/1000} km\")"
   ]
  },
  {
   "cell_type": "markdown",
   "metadata": {},
   "source": [
    "#### Interpolate a fractional distance along arc"
   ]
  },
  {
   "cell_type": "code",
   "execution_count": null,
   "metadata": {},
   "outputs": [],
   "source": [
    "fraction = 1/10"
   ]
  },
  {
   "cell_type": "code",
   "execution_count": null,
   "metadata": {},
   "outputs": [],
   "source": [
    "distance_between_points_meter = fraction * distance_meter\n",
    "print(f\"Each point will be separated by {distance_between_points_meter} meters ({distance_between_points_meter/1000} km)\")"
   ]
  },
  {
   "cell_type": "code",
   "execution_count": null,
   "metadata": {},
   "outputs": [],
   "source": [
    "lat_start, lon_start = location_df.loc[\"boulder\", \"latitude\"], location_df.loc[\"boulder\", \"longitude\"]\n",
    "lat_end, lon_end = location_df.loc[\"boston\", \"latitude\"], location_df.loc[\"boston\", \"longitude\"]\n",
    "\n",
    "intermediate_ellipsoid = interpolate_points_along_gc(lat_start,\n",
    "                                          lon_start,\n",
    "                                          lat_end,\n",
    "                                          lon_end,\n",
    "                                          distance_between_points_meter)\n",
    "print(f\"{len(intermediate_ellipsoid)} Total Points\")\n",
    "intermediate_ellipsoid"
   ]
  },
  {
   "cell_type": "code",
   "execution_count": null,
   "metadata": {},
   "outputs": [],
   "source": [
    "plot_coordinate(intermediate_ellipsoid,\n",
    "                title=f\"(Ellipsoid) Interpolate on Fraction {fraction}\")"
   ]
  },
  {
   "cell_type": "code",
   "execution_count": null,
   "metadata": {},
   "outputs": [],
   "source": [
    "distance_unit_sphere_default = distance_between_points_default(\"boulder\", \"boston\")\n",
    "intermediate_unit_sphere = calculate_intermediate_pts(\"boulder\", \"boston\",\n",
    "                                               fraction, distance_unit_sphere_default)\n",
    "print(f\"{len(intermediate_unit_sphere)} Total Points\")\n",
    "intermediate_unit_sphere"
   ]
  },
  {
   "cell_type": "code",
   "execution_count": null,
   "metadata": {},
   "outputs": [],
   "source": [
    "plot_coordinate(intermediate_unit_sphere,\n",
    "                title=f\"(Unit Sphere) Interpolate on Fraction {fraction}\")"
   ]
  },
  {
   "cell_type": "code",
   "execution_count": null,
   "metadata": {},
   "outputs": [],
   "source": [
    "# compare math and geodesic outputs\n",
    "for i in range(len(intermediate_ellipsoid)):\n",
    "    _, _, distance_m = geodesic.inv(intermediate_ellipsoid[i][0], intermediate_ellipsoid[i][1],\n",
    "                                   intermediate_unit_sphere[i][0], intermediate_unit_sphere[i][1])\n",
    "    if np.isnan(distance_m): distance_m = 0\n",
    "    print(f\"Distance between ellipsoid/unit sphere defined point {i}: {distance_m} meters\")"
   ]
  },
  {
   "cell_type": "markdown",
   "metadata": {},
   "source": [
    "## Determine the Midpoint of a Great Circle Arc"
   ]
  },
  {
   "cell_type": "markdown",
   "metadata": {},
   "source": [
    "The midpoint of an arc can be determiend as a fractional distance along an arc where f = 0.5."
   ]
  },
  {
   "cell_type": "code",
   "execution_count": null,
   "metadata": {},
   "outputs": [],
   "source": [
    "midpoint = distance_meter / 2\n",
    "lat_start, lon_start = location_df.loc[\"boulder\", \"latitude\"], location_df.loc[\"boulder\", \"longitude\"]\n",
    "lat_end, lon_end = location_df.loc[\"boston\", \"latitude\"], location_df.loc[\"boston\", \"longitude\"]\n",
    "\n",
    "intermediate_geodesic = interpolate_points_along_gc(lat_start,\n",
    "                                          lon_start,\n",
    "                                          lat_end,\n",
    "                                          lon_end,\n",
    "                                          midpoint)\n",
    "print(f\"{len(intermediate_geodesic)} Total Points\")\n",
    "print(intermediate_geodesic)\n",
    "print(f\"Midpoint = {intermediate_geodesic[1]}\")"
   ]
  },
  {
   "cell_type": "code",
   "execution_count": null,
   "metadata": {},
   "outputs": [],
   "source": [
    "distance_unit_sphere_default = distance_between_points_default(\"boulder\", \"boston\")\n",
    "intermediate_unit_sphere = calculate_intermediate_pts(\"boulder\", \"boston\",\n",
    "                                               1/2, distance_unit_sphere_default)\n",
    "print(f\"{len(intermediate_unit_sphere)} Total Points\")\n",
    "print(intermediate_unit_sphere)\n",
    "print(f\"Midpoint = {intermediate_unit_sphere[1]}\")"
   ]
  },
  {
   "cell_type": "code",
   "execution_count": null,
   "metadata": {},
   "outputs": [],
   "source": [
    "# Compare geodesic and unit sphere\n",
    "_, _, distance_m = geodesic.inv(intermediate_geodesic[1][0], intermediate_geodesic[1][1],\n",
    "                                   intermediate_unit_sphere[1][0], intermediate_unit_sphere[1][1])\n",
    "print(f\"Distance between geodesic/unint sphere defined midpoint = {distance_m} meters\")"
   ]
  },
  {
   "cell_type": "markdown",
   "metadata": {},
   "source": [
    "## Generate a Great Circle Path\n",
    "\n",
    "Generate points along a great circle path bewtween two points."
   ]
  },
  {
   "cell_type": "code",
   "execution_count": null,
   "metadata": {},
   "outputs": [],
   "source": [
    "# Generate Latitude Coordinates based on Longitude Coordinates\n",
    "def generate_latitude_along_gc(start_point=None, end_point=None, number_of_lon_pts=360):\n",
    "    lat1 = np.deg2rad(location_df.loc[start_point, \"latitude\"])\n",
    "    lon1 = np.deg2rad(location_df.loc[start_point, \"longitude\"])\n",
    "    lat2 = np.deg2rad(location_df.loc[end_point, \"latitude\"])\n",
    "    lon2 = np.deg2rad(location_df.loc[end_point, \"longitude\"])\n",
    "\n",
    "    # Verify not meridian (longitude passes through the poles)\n",
    "    if np.sin(lon1 - lon2) == 0:\n",
    "        print(\"Invalid inputs: start/end points are meridians\")\n",
    "        # plotting meridians at 0 longitude through all latitudes\n",
    "        meridian_lat = np.arange(-90, 90, 180/len(longitude_lst)) # split in n number\n",
    "        meridians = []\n",
    "        for lat in meridian_lat:\n",
    "            meridians.append((lat, 0))\n",
    "        return meridians\n",
    "\n",
    "    # verify not anitpodal (diametrically opposite, points)\n",
    "    if lat1 + lat2 == 0 and abs(lon1-lon2) == np.pi:\n",
    "        print(\"Invalid inputs: start/end points are antipodal\")\n",
    "        return []\n",
    "\n",
    "    # note: can be expanded to handle input of np arrays by filter out antipodal/merdiain points\n",
    "\n",
    "    # generate n total number of longitude points along the great circle\n",
    "    # https://github.com/rspatial/geosphere/blob/master/R/greatCircle.R#L18C3-L18C7\n",
    "    gc_lon_lst = []\n",
    "    for lon in range(1, number_of_lon_pts+1):\n",
    "        new_lon = (lon  * (360/number_of_lon_pts) - 180)\n",
    "        gc_lon_lst.append(np.deg2rad(new_lon))\n",
    "\n",
    "    # Intermediate points on a great circle: https://edwilliams.org/avform147.htm\"\n",
    "    gc_lat_lon = []\n",
    "    for gc_lon in gc_lon_lst:\n",
    "        num = np.sin(lat1)*np.cos(lat2)*np.sin(gc_lon-lon2)-np.sin(lat2)*np.cos(lat1)*np.sin(gc_lon-lon1)\n",
    "        den = np.cos(lat1)*np.cos(lat2)*np.sin(lon1-lon2)\n",
    "        new_lat = np.arctan(num/den)\n",
    "        gc_lat_lon.append((np.rad2deg(new_lat), np.rad2deg(gc_lon)))\n",
    "    return gc_lat_lon"
   ]
  },
  {
   "cell_type": "code",
   "execution_count": null,
   "metadata": {},
   "outputs": [],
   "source": [
    "def arc_points(start_lat=None,\n",
    "               start_lon=None,\n",
    "               end_lat=None,\n",
    "               end_lon=None,\n",
    "               n_total_points=10):\n",
    "    _, _, distance_meter =  geodesic.inv(start_lon,\n",
    "                                        start_lat,\n",
    "                                        end_lon,\n",
    "                                        end_lat)\n",
    "        \n",
    "    distance_between_points_meter = distance_meter / (n_total_points + 1)\n",
    "\n",
    "    \n",
    "    points_along_arc = interpolate_points_along_gc(start_lat,\n",
    "                                              start_lon,\n",
    "                                              end_lat,\n",
    "                                              end_lon,\n",
    "                                              distance_between_points_meter)\n",
    "    return points_along_arc"
   ]
  },
  {
   "cell_type": "code",
   "execution_count": null,
   "metadata": {},
   "outputs": [],
   "source": [
    "def plot_coordinate(lat_lon_lst=None,\n",
    "                    start_point=None, end_point=None,\n",
    "                    title=None):\n",
    "    # Set up world map plot\n",
    "    fig = plt.subplots(figsize=(15, 10))\n",
    "    projection_map = ccrs.PlateCarree()\n",
    "    ax = plt.axes(projection=projection_map)\n",
    "    lon_west, lon_east, lat_south, lat_north = -180, 180, -90, 90\n",
    "    ax.set_extent([lon_west, lon_east, lat_south, lat_north], crs=projection_map)\n",
    "    ax.coastlines(color=\"black\")\n",
    "    ax.add_feature(cfeature.BORDERS, edgecolor='grey')\n",
    "    ax.add_feature(cfeature.STATES, edgecolor=\"grey\")\n",
    "        \n",
    "    # Plot Latitude/Longitude Location of great circle path\n",
    "    longitudes = [x[1] for x in lat_lon_lst] # longitude\n",
    "    latitudes = [x[0] for x in lat_lon_lst] # latitude\n",
    "    plt.plot(longitudes, latitudes, c=\"cornflowerblue\")\n",
    "    plt.scatter(longitudes, latitudes, c=\"cornflowerblue\")\n",
    "\n",
    "    # Overly great circle with arc rom start/end point\n",
    "    start_end_lat_lon = arc_points(location_df.loc[start_point, \"latitude\"],\n",
    "                                   location_df.loc[start_point, \"longitude\"],\n",
    "                                   location_df.loc[end_point, \"latitude\"],\n",
    "                                   location_df.loc[end_point, \"longitude\"],\n",
    "                                   n_total_points=20)\n",
    "    longitudes = [x[1] for x in start_end_lat_lon] # longitude\n",
    "    latitudes = [x[0] for x in start_end_lat_lon] # latitude\n",
    "    plt.plot(longitudes, latitudes, c=\"red\")\n",
    "    plt.scatter(longitudes, latitudes, c=\"red\")\n",
    "    \n",
    "    # Setup Axis Limits and Title/Labels\n",
    "    plt.title(title)\n",
    "    plt.show()"
   ]
  },
  {
   "cell_type": "code",
   "execution_count": null,
   "metadata": {},
   "outputs": [],
   "source": [
    "start_pt = \"boulder\"\n",
    "end_pt = \"boston\"\n",
    "n_pts = 360\n",
    "lat_lon_pts = generate_latitude_along_gc(start_pt, end_pt, number_of_lon_pts=n_pts)\n",
    "plot_coordinate(lat_lon_pts, start_pt, end_pt,\n",
    "                f\"Plot Great Circle, made from the arc {start_pt.title()} to {end_pt.title()}\")"
   ]
  },
  {
   "cell_type": "code",
   "execution_count": null,
   "metadata": {},
   "outputs": [],
   "source": [
    "start_pt = \"arecibo\"\n",
    "end_pt = \"greenwich\"\n",
    "n_pts = 360\n",
    "lat_lon_pts = generate_latitude_along_gc(start_pt, end_pt, number_of_lon_pts=n_pts)\n",
    "plot_coordinate(lat_lon_pts, start_pt, end_pt,\n",
    "                f\"Plot Great Circle, made from the arc {start_pt.title()} to {end_pt.title()}\")"
   ]
  },
  {
   "cell_type": "code",
   "execution_count": null,
   "metadata": {},
   "outputs": [],
   "source": [
    "start_pt = \"zambezi\"\n",
    "end_pt = \"svalbard\"\n",
    "n_pts = 360\n",
    "lat_lon_pts = generate_latitude_along_gc(start_pt, end_pt, number_of_lon_pts=n_pts)\n",
    "plot_coordinate(lat_lon_pts, start_pt, end_pt,\n",
    "                f\"Plot Great Circle, made from the arc {start_pt.title()} to {end_pt.title()}\")"
   ]
  },
  {
   "cell_type": "markdown",
   "metadata": {},
   "source": [
    "## Determine an Antipodal Point\n",
    "\n",
    "Antipodal is the point on the globe that is on the exact opposite side of the Earth.\n",
    "\n",
    "Antipodal latitude is defined as:\n",
    "\n",
    "$$\\text{antipodal latitude} = -1 * \\text{latitude}$$\n",
    "\n",
    "Antipodal longitude is defined as:\n",
    "\n",
    "$$\\text{anitpodal longitude} = (\\text{longitude} + 180) \\text{ if longitude} \\le 0$$\n",
    "$$\\text{anitpodal longitude} = (\\text{longitude} - 180) \\text{ if longitude} \\gt 0$$\n",
    "\n",
    "- [Antipodes Map](https://www.antipodesmap.com/)"
   ]
  },
  {
   "cell_type": "code",
   "execution_count": null,
   "metadata": {},
   "outputs": [],
   "source": [
    "def antipodal(start_point=None):\n",
    "    anti_lat = -1 * location_df.loc[start_point, \"latitude\"]\n",
    "    ref_lon = location_df.loc[start_point, \"longitude\"]\n",
    "    if ref_lon > 0:\n",
    "        anti_lon = ref_lon - 180\n",
    "    else:\n",
    "        anti_lon = ref_lon + 180\n",
    "    #if anti_lon >= 180:\n",
    "    #    anti_lon = -1 * (anti_lon % 180)\n",
    "    return (anti_lat, anti_lon)"
   ]
  },
  {
   "cell_type": "code",
   "execution_count": null,
   "metadata": {},
   "outputs": [],
   "source": [
    "def is_antipodal(start_point=None, end_point=None):\n",
    "    lon1 = np.deg2rad(location_df.loc[start_point, \"longitude\"])\n",
    "    lat1 = np.deg2rad(location_df.loc[start_point, \"latitude\"])\n",
    "    lon2 = np.deg2rad(location_df.loc[end_point, \"longitude\"])\n",
    "    lat2 = np.deg2rad(location_df.loc[end_point, \"latitude\"])\n",
    "    return lat1 + lat2 == 0 and abs(lon1-lon2) == np.pi"
   ]
  },
  {
   "cell_type": "code",
   "execution_count": null,
   "metadata": {},
   "outputs": [],
   "source": [
    "def plot_antipodal(start_point=None):\n",
    "    # Set up world map plot\n",
    "    fig = plt.subplots(figsize=(15, 10))\n",
    "    projection_map = ccrs.PlateCarree()\n",
    "    ax = plt.axes(projection=projection_map)\n",
    "    lon_west, lon_east, lat_south, lat_north = -180, 180, -90, 90\n",
    "    ax.set_extent([lon_west, lon_east, lat_south, lat_north], crs=projection_map)\n",
    "    ax.coastlines(color=\"black\")\n",
    "    ax.add_feature(cfeature.BORDERS, edgecolor='grey')\n",
    "    ax.add_feature(cfeature.STATES, edgecolor=\"grey\")\n",
    "        \n",
    "    # Plot Start point\n",
    "    plt.scatter(location_df.loc[start_point, \"longitude\"],\n",
    "                location_df.loc[start_point, \"latitude\"],\n",
    "                s=100, c=\"cornflowerblue\", label=start_point.title())\n",
    "\n",
    "    # Plot Antipodal Point\n",
    "    antipodal_point = antipodal(start_point)\n",
    "    plt.scatter(antipodal_point[1], antipodal_point[0], s=100, c=\"red\", label=\"Antipodal\")\n",
    "    \n",
    "    # Setup Axis Limits and Title/Labels\n",
    "    plt.title(f\"{start_point.title()} and Antipodal Point {antipodal_point}\")\n",
    "    plt.legend(loc=\"lower right\")\n",
    "    plt.show()"
   ]
  },
  {
   "cell_type": "code",
   "execution_count": null,
   "metadata": {},
   "outputs": [],
   "source": [
    "print(antipodal(\"boulder\"))\n",
    "plot_antipodal(\"boulder\")"
   ]
  },
  {
   "cell_type": "code",
   "execution_count": null,
   "metadata": {},
   "outputs": [],
   "source": [
    "print(antipodal(\"svalbard\"))\n",
    "plot_antipodal(\"svalbard\")"
   ]
  },
  {
   "cell_type": "code",
   "execution_count": null,
   "metadata": {},
   "outputs": [],
   "source": [
    "print(antipodal(\"cairo\"))\n",
    "plot_antipodal(\"cairo\")"
   ]
  },
  {
   "cell_type": "markdown",
   "metadata": {},
   "source": [
    "---"
   ]
  },
  {
   "cell_type": "markdown",
   "metadata": {},
   "source": [
    "## Summary\n",
    "\n",
    "Calculating and mapping the midpoint and intermediate points along the great circle arc and closed circle path.\n",
    "\n",
    "### What's next?\n",
    "\n",
    "With a great circle arc defined, determine if a third point is along the arc or at what distance it sits from the great circle arc and path.\n"
   ]
  },
  {
   "cell_type": "markdown",
   "metadata": {},
   "source": [
    "## Resources and references"
   ]
  },
  {
   "cell_type": "markdown",
   "metadata": {},
   "source": [
    "- [Ed Williams \"Avitation Formulary\"](https://edwilliams.org/avform147.htm)\n",
    "- [Movable Type Scripts](https://www.movable-type.co.uk/scripts/latlong.html)"
   ]
  }
 ],
 "metadata": {
  "kernelspec": {
   "display_name": "Python 3 (ipykernel)",
   "language": "python",
   "name": "python3"
  },
  "language_info": {
   "codemirror_mode": {
    "name": "ipython",
    "version": 3
   },
   "file_extension": ".py",
   "mimetype": "text/x-python",
   "name": "python",
   "nbconvert_exporter": "python",
   "pygments_lexer": "ipython3",
   "version": "3.12.7"
  },
  "nbdime-conflicts": {
   "local_diff": [
    {
     "diff": [
      {
       "diff": [
        {
         "key": 0,
         "op": "addrange",
         "valuelist": [
          "Python 3"
         ]
        },
        {
         "key": 0,
         "length": 1,
         "op": "removerange"
        }
       ],
       "key": "display_name",
       "op": "patch"
      }
     ],
     "key": "kernelspec",
     "op": "patch"
    }
   ],
   "remote_diff": [
    {
     "diff": [
      {
       "diff": [
        {
         "key": 0,
         "op": "addrange",
         "valuelist": [
          "Python3"
         ]
        },
        {
         "key": 0,
         "length": 1,
         "op": "removerange"
        }
       ],
       "key": "display_name",
       "op": "patch"
      }
     ],
     "key": "kernelspec",
     "op": "patch"
    }
   ]
  },
  "toc-autonumbering": false
 },
 "nbformat": 4,
 "nbformat_minor": 4
}
