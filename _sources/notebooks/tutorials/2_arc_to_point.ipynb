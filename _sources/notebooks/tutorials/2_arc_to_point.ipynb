{
 "cells": [
  {
   "cell_type": "markdown",
   "metadata": {},
   "source": [
    "<img src=\"https://climate.nasa.gov/rails/active_storage/blobs/redirect/eyJfcmFpbHMiOnsibWVzc2FnZSI6IkJBaHBBbjhxIiwiZXhwIjpudWxsLCJwdXIiOiJibG9iX2lkIn19--4991bee2efb16c12caca6f535e504ce7a99b0f1c/epic_fires_header_0.gif\" alt=\"The Earth Polychromatic Imaging Camera, or EPIC, captured this image of smoke from a wildfire in North America on Aug.15, 2018. Credit: NASA Goddard/ Katy Mersmann\"></img>"
   ]
  },
  {
   "cell_type": "markdown",
   "metadata": {},
   "source": [
    "# Great Circles and a Point"
   ]
  },
  {
   "cell_type": "markdown",
   "metadata": {},
   "source": [
    "---"
   ]
  },
  {
   "cell_type": "markdown",
   "metadata": {},
   "source": [
    "## Overview\n",
    "A plane traveling across the country suddenly discovers it is low on fuel! It can no longer make it to the planned airport, instead it has to find the closest airport to its current position that it can make it with its remaining fuel.\n",
    "\n",
    "1. Determine the distance of a point to a great circle arc (cross-track and along-track distance)\n",
    "1. Determine if a point lies on a great circle arc and path (with and without tolerances)\n",
    "1. _Determine the distance of a point to a great circle path (TODO)_\n"
   ]
  },
  {
   "cell_type": "markdown",
   "metadata": {},
   "source": [
    "## Prerequisites\n",
    "\n",
    "| Concepts | Importance | Notes |\n",
    "| --- | --- | --- |\n",
    "| [Numpy](https://foundations.projectpythia.org/core/numpy.html) | Necessary | Used to work with large arrays |\n",
    "| [Pandas](https://foundations.projectpythia.org/core/numpy.html) | Necessary | Used to read in and organize data (in particular dataframes) |\n",
    "| [Intro to Cartopy](https://foundations.projectpythia.org/core/cartopy/cartopy.html) | Helpful | Will be used for adding maps to plotting |\n",
    "| [Matplotlib](https://foundations.projectpythia.org/core/matplotlib.html) | Helpful | Will be used for plotting |\n",
    "\n",
    "\n",
    "- **Time to learn**: 30 Minutes"
   ]
  },
  {
   "cell_type": "markdown",
   "metadata": {},
   "source": [
    "---"
   ]
  },
  {
   "cell_type": "markdown",
   "metadata": {},
   "source": [
    "## Imports\n",
    "\n",
    "- Import Packages\n",
    "- Setup location dataframe with coordinates"
   ]
  },
  {
   "cell_type": "code",
   "execution_count": null,
   "metadata": {},
   "outputs": [],
   "source": [
    "import pandas as pd                                    # read in data text file\n",
    "import numpy as np                                     # working with degrees and radians\n",
    "\n",
    "from pyproj import Geod                                # working with the Earth as an ellipsod (WGS-84)\n",
    "import geopy.distance                                  # moving along a known distance on the Earth's ellipsoid surface\n",
    "\n",
    "import matplotlib.pyplot as plt                        # plotting a graph\n",
    "from cartopy import crs as ccrs, feature as cfeature   # plotting a world map"
   ]
  },
  {
   "cell_type": "code",
   "execution_count": null,
   "metadata": {},
   "outputs": [],
   "source": [
    "# Get all Coordinates for Locations\n",
    "location_df = pd.read_csv(\"../location_full_coords.txt\")\n",
    "location_df = location_df.rename(columns=lambda x: x.strip()) # strip excess white space from column names and values\n",
    "location_df.index = location_df[\"name\"]\n",
    "location_df.head()"
   ]
  },
  {
   "cell_type": "markdown",
   "metadata": {},
   "source": [
    "## Determine the distance of a point to a great circle arc\n",
    "\n",
    "The cross-track distance, sometimes known as cross track error, determines the distance from a point to a great circle arc and can be determined with vectors (typically simpler too)."
   ]
  },
  {
   "cell_type": "code",
   "execution_count": null,
   "metadata": {},
   "outputs": [],
   "source": [
    "geodesic = Geod(ellps=\"WGS84\")\n",
    "earth_radius = 6378137  # meters"
   ]
  },
  {
   "cell_type": "markdown",
   "metadata": {},
   "source": [
    "- Cross track distance: angular distance from point P to great circle path\n",
    "- Along track distance: angular distance along the great circle path from A to B before hitting a point that is closest to point P"
   ]
  },
  {
   "cell_type": "markdown",
   "metadata": {},
   "source": [
    "### Cross Track Distance\n",
    "Distance of a point to a great circle arc is defined as:\n",
    "\n",
    "$$dxt = asin( sin(δ13) ⋅ sin(θ13 − θ12) ) * R$$\n",
    "\n",
    "- δ13 (delta_13) is (angular) distance from start point to third point\n",
    "- θ13 (theta_13) is (initial) bearing from start point to third point\n",
    "- θ12 (theta_12) is (initial) bearing from start point to end point\n",
    "- R is the earth’s radius\n",
    "\n",
    "$$d_xt = np.arcsin(np.sin(delta_13)*np.sin(theta_13 - theta_12)) * R$$\n",
    "\n",
    "$$XTD =asin(sin(dist_AD)*sin(crs_AD-crs_AB))$$\n",
    "\n",
    "- Positive Cross-Track Distance: Point lies in the hemisphere to the left of the great circle\n",
    "- Negative Cross-Track Distance: Point lies in the hemiphere to the right of the great circle\n",
    "\n",
    "> If the point A is the N. or S. Pole replace crs_AD-crs_AB with \n",
    "lon_D-lon_B or lon_B-lon_D, respectively"
   ]
  },
  {
   "cell_type": "code",
   "execution_count": null,
   "metadata": {},
   "outputs": [],
   "source": [
    "def cross_track_distance(start_point=None, end_point=None, new_point=None):\n",
    "    fwd_bearing_start_end, _, _ = geodesic.inv(location_df.loc[start_point, \"longitude\"],\n",
    "                                               location_df.loc[start_point, \"latitude\"],\n",
    "                                               location_df.loc[end_point, \"longitude\"],\n",
    "                                               location_df.loc[end_point, \"latitude\"])\n",
    "    fwd_bearing_start_new, _, distance_m_start_new = geodesic.inv(location_df.loc[start_point, \"longitude\"],\n",
    "                                                                  location_df.loc[start_point, \"latitude\"],\n",
    "                                                                  location_df.loc[new_point, \"longitude\"],\n",
    "                                                                  location_df.loc[new_point, \"latitude\"]) \n",
    "\n",
    "    angular_distance_start_new = distance_m_start_new / earth_radius\n",
    "    ct_distance = np.arcsin(np.sin(angular_distance_start_new) * np.sin(np.deg2rad(fwd_bearing_start_new - fwd_bearing_start_end))) * earth_radius\n",
    "    return ct_distance"
   ]
  },
  {
   "cell_type": "markdown",
   "metadata": {},
   "source": [
    "### Along Track Distance\n",
    "\n",
    "Distance along a great circle arc, closest to a point is defined as:\n",
    "\n",
    "$$dat = acos(\\frac{cos(δ13)}{cos(δxt)}) * R$$\n",
    "\n",
    "- δ13 (delta_13) is (angular) distance from start point to third point\n",
    "- δxt (delta_xt) is (angular) cross-track distance\n",
    "- R is the earth’s radius\n",
    "\n",
    "$$d_at = np.arccos(\\frac{np.cos(delta_13)}{np.cos(d_xt/R)} * R$$\n",
    "\n",
    "$$ATD=acos(\\frac{cos(dist_AD)}{cos(XTD)})$$\n",
    "\n",
    ">  For very short distances (is less susceptible to rounding error):\n",
    "\n",
    "$$ATD=asin(\\sqrt{\\frac{sin(dist_AD))^2 - (sin(XTD))^2 )}{cos(XTD)}}$$"
   ]
  },
  {
   "cell_type": "code",
   "execution_count": null,
   "metadata": {},
   "outputs": [],
   "source": [
    "def along_track_distance(start_point=None, end_point=None, new_point=None):\n",
    "    crosst_distance = cross_track_distance(start_point, end_point, new_point)\n",
    "\n",
    "    _, _, distance_m_start_new = geodesic.inv(location_df.loc[start_point, \"longitude\"],\n",
    "                                              location_df.loc[start_point, \"latitude\"],\n",
    "                                              location_df.loc[new_point, \"longitude\"],\n",
    "                                              location_df.loc[new_point, \"latitude\"])  \n",
    "    angular_distance_start_new = distance_m_start_new / earth_radius\n",
    "    at_distance = np.arccos(np.cos(angular_distance_start_new) / np.cos(crosst_distance / earth_radius)) * earth_radius\n",
    "    return at_distance"
   ]
  },
  {
   "cell_type": "markdown",
   "metadata": {},
   "source": [
    "### Generate Points at Intermediate Points along an Arc/Path"
   ]
  },
  {
   "cell_type": "code",
   "execution_count": null,
   "metadata": {},
   "outputs": [],
   "source": [
    "# Distance point along great circle path\n",
    "def point_along_path(start_point=None, end_point=None, distance_m=None):\n",
    "    fwd_bearing, _, _ = geodesic.inv(location_df.loc[start_point, \"longitude\"],\n",
    "                                     location_df.loc[start_point, \"latitude\"],\n",
    "                                     location_df.loc[end_point, \"longitude\"],\n",
    "                                     location_df.loc[end_point, \"latitude\"])  \n",
    "    origin = geopy.Point(location_df.loc[start_point, \"latitude\"],\n",
    "                         location_df.loc[start_point, \"longitude\"])\n",
    "    distance_to_move = geopy.distance.distance(\n",
    "                            kilometers=distance_m / 1000)  # distance to move towards the next point\n",
    "    final_position = distance_to_move.destination(origin, bearing=fwd_bearing)\n",
    "    return (final_position.latitude, final_position.longitude)"
   ]
  },
  {
   "cell_type": "code",
   "execution_count": null,
   "metadata": {},
   "outputs": [],
   "source": [
    "def interpolate_points_along_gc(lat_start,\n",
    "                                lon_start,\n",
    "                                lat_end,\n",
    "                                lon_end,\n",
    "                                distance_between_points_meter): \n",
    "    lat_lon_points = [(lat_start, lon_start)]\n",
    "    \n",
    "    # move to next point when distance between points is less than the equal distance\n",
    "    move_to_next_point = True\n",
    "    while(move_to_next_point):\n",
    "        forward_bearing, reverse_bearing, distance_meters = geodesic.inv(lon_start,\n",
    "                                                                         lat_start, \n",
    "                                                                         lon_end,\n",
    "                                                                         lat_end)\n",
    "        if distance_meters < distance_between_points_meter:\n",
    "            # ends before overshooting\n",
    "            move_to_next_point = False\n",
    "        else:\n",
    "            start_point = geopy.Point(lat_start, lon_start)\n",
    "            distance_to_move = geopy.distance.distance(\n",
    "                            kilometers=distance_between_points_meter /\n",
    "                            1000)  # distance to move towards the next point\n",
    "            final_position = distance_to_move.destination(\n",
    "                            start_point, bearing=forward_bearing)\n",
    "            lat_lon_points.append((final_position.latitude, final_position.longitude))\n",
    "            # new starting position is newly found end position\n",
    "            lon_start, lat_start = final_position.longitude, final_position.latitude\n",
    "    lat_lon_points.append((lat_end, lon_end))\n",
    "    return lat_lon_points\n",
    "\n",
    "def arc_points(start_lat=None,\n",
    "               start_lon=None,\n",
    "               end_lat=None,\n",
    "               end_lon=None,\n",
    "               n_total_points=10):\n",
    "    _, _, distance_meter =  geodesic.inv(start_lon,\n",
    "                                        start_lat,\n",
    "                                        end_lon,\n",
    "                                        end_lat)\n",
    "        \n",
    "    distance_between_points_meter = distance_meter / (n_total_points + 1)\n",
    "\n",
    "    \n",
    "    new_points_lst = interpolate_points_along_gc(start_lat,\n",
    "                                              start_lon,\n",
    "                                              end_lat,\n",
    "                                              end_lon,\n",
    "                                              distance_between_points_meter)\n",
    "    return new_points_lst"
   ]
  },
  {
   "cell_type": "code",
   "execution_count": null,
   "metadata": {},
   "outputs": [],
   "source": [
    "def plot_cross_track(start_point=None, end_point=None, new_point=None,\n",
    "                     lon_west=-130, lon_east=-60,\n",
    "                     lat_south=20, lat_north=60):\n",
    "    # Set up world map plot\n",
    "    fig = plt.subplots(figsize=(16, 10))\n",
    "    projection_map = ccrs.PlateCarree()\n",
    "    ax = plt.axes(projection=projection_map)\n",
    "    ax.set_extent([lon_west, lon_east, lat_south, lat_north], crs=projection_map)\n",
    "    ax.coastlines(color=\"black\")\n",
    "    ax.add_feature(cfeature.BORDERS, edgecolor='grey')\n",
    "    ax.add_feature(cfeature.STATES, edgecolor=\"grey\")\n",
    "\n",
    "    # Cross-Track and Along-Track Distances\n",
    "    ct_distance = cross_track_distance(start_point, end_point, new_point)\n",
    "    print(f\"Cross Track Distance: \\n{ct_distance} meters ({ct_distance/1000} km)\")\n",
    "\n",
    "    at_distance = along_track_distance(start_point, end_point, new_point)\n",
    "    print(f\"Along Track Distance: \\n{at_distance} meters ({at_distance/1000} km)\\n\")\n",
    "\n",
    "    closest_point = point_along_path(start_point, end_point, at_distance)\n",
    "    print(f\"Closest Point To Point Along Great Circle Path:\\n{closest_point}\") \n",
    "\n",
    "    # Plot Latitude/Longitude Location\n",
    "    great_circle_arc_pts = arc_points(location_df.loc[start_point, \"latitude\"],\n",
    "                                      location_df.loc[start_point, \"longitude\"],\n",
    "                                      location_df.loc[end_point, \"latitude\"],\n",
    "                                      location_df.loc[end_point, \"longitude\"],\n",
    "                                      10)\n",
    "    longitudes = [x[1] for x in great_circle_arc_pts] # longitude\n",
    "    latitudes = [x[0] for x in great_circle_arc_pts] # latitude\n",
    "    plt.plot(longitudes, latitudes, c=\"purple\")\n",
    "    plt.scatter(longitudes, latitudes, c=\"purple\")\n",
    "\n",
    "    cross_track_arc = arc_points(closest_point[0],\n",
    "                                 closest_point[1],\n",
    "                                 location_df.loc[new_point, \"latitude\"],\n",
    "                                 location_df.loc[new_point, \"longitude\"],\n",
    "                                   10)\n",
    "    longitudes = [x[1] for x in cross_track_arc] # longitude\n",
    "    latitudes = [x[0] for x in cross_track_arc] # latitude\n",
    "    plt.plot(longitudes, latitudes, c=\"green\")\n",
    "    plt.scatter(longitudes, latitudes, c=\"green\")\n",
    "\n",
    "    # plot closest_point in red\n",
    "    plt.scatter(closest_point[1], closest_point[0], c=\"red\")\n",
    "\n",
    "    plt.title(f\"Closest Point {closest_point} from {start_point.title()}->{end_point.title()} to {new_point.title()}, Cross-Track Distance = {ct_distance/1000:4f} km\")\n",
    "    plt.show()"
   ]
  },
  {
   "cell_type": "markdown",
   "metadata": {},
   "source": [
    "#### Positive Cross-Track Distance: Point lies in the hemisphere to the left of the great circle"
   ]
  },
  {
   "cell_type": "code",
   "execution_count": null,
   "metadata": {},
   "outputs": [],
   "source": [
    "plot_cross_track(start_point=\"boulder\", end_point=\"greenwich\", new_point=\"greenwich\")"
   ]
  },
  {
   "cell_type": "code",
   "execution_count": null,
   "metadata": {},
   "outputs": [],
   "source": [
    "plot_cross_track(start_point=\"boulder\", end_point=\"boston\", new_point=\"cape canaveral\")"
   ]
  },
  {
   "cell_type": "code",
   "execution_count": null,
   "metadata": {},
   "outputs": [],
   "source": [
    "plot_cross_track(start_point=\"boulder\", end_point=\"boston\", new_point=\"arecibo\",\n",
    "                lat_south=15)"
   ]
  },
  {
   "cell_type": "markdown",
   "metadata": {},
   "source": [
    "#### Negative Cross-Track Distance: Point lies in the hemiphere to the right of the great circle"
   ]
  },
  {
   "cell_type": "code",
   "execution_count": null,
   "metadata": {},
   "outputs": [],
   "source": [
    "plot_cross_track(start_point=\"boulder\", end_point=\"boston\", new_point=\"redwoods\")"
   ]
  },
  {
   "cell_type": "code",
   "execution_count": null,
   "metadata": {},
   "outputs": [],
   "source": [
    "plot_cross_track(start_point=\"boulder\", end_point=\"boston\", new_point=\"greenwich\",\n",
    "                lon_east=15)"
   ]
  },
  {
   "cell_type": "markdown",
   "metadata": {},
   "source": [
    "## Determine if a point lies on a great circle arc and path\n",
    "\n",
    "With and without tolerances (in meters):"
   ]
  },
  {
   "cell_type": "code",
   "execution_count": null,
   "metadata": {},
   "outputs": [],
   "source": [
    "def is_point_on_arc(start_point=None, end_point=None,\n",
    "                check_point=None, tolerance=0):\n",
    "    # tolerance in meters\n",
    "    lon1 = np.deg2rad(location_df.loc[start_point, \"longitude\"])\n",
    "    lat1 = np.deg2rad(location_df.loc[start_point, \"latitude\"])\n",
    "    lon2 = np.deg2rad(location_df.loc[end_point, \"longitude\"])\n",
    "    lat2 = np.deg2rad(location_df.loc[end_point, \"latitude\"])\n",
    "    check_lon = np.deg2rad(location_df.loc[check_point, \"longitude\"])\n",
    "    check_lat = np.deg2rad(location_df.loc[check_point, \"latitude\"])\n",
    "\n",
    "    # Verify not meridian (longitude passes through the poles)\n",
    "    if np.sin(lon1 - lon2) == 0:\n",
    "        print(\"Invalid inputs: start/end points are meridians\")\n",
    "        return np.nan\n",
    "    \n",
    "    # verify not anitpodal (diametrically opposite, points)\n",
    "    if lat1 + lat2 == 0 and abs(lon1-lon2) == np.pi:\n",
    "        print(\"Invalid inputs: start/end points are antipodal\")\n",
    "        return np.nan\n",
    "    # account for tolerance based on cross-track distance from arc\n",
    "    ct_distance = cross_track_distance(start_point, end_point, check_point)\n",
    "    print(f\"Cross-Track Distance = {ct_distance} meters\")\n",
    "    if np.abs(ct_distance) <= tolerance:\n",
    "        return True\n",
    "\n",
    "    # determine expected latitude\n",
    "    num = np.sin(lat1)*np.cos(lat2)*np.sin(check_lon-lon2)-np.sin(lat2)*np.cos(lat1)*np.sin(check_lon-lon1)\n",
    "    den = np.cos(lat1)*np.cos(lat2)*np.sin(lon1-lon2)\n",
    "    new_lat = np.arctan(num/den)\n",
    "    expected_lat = np.rad2deg(new_lat)\n",
    "    return check_lat == expected_lat"
   ]
  },
  {
   "cell_type": "markdown",
   "metadata": {},
   "source": [
    "#### Check if a point lies on a great circle arc"
   ]
  },
  {
   "cell_type": "code",
   "execution_count": null,
   "metadata": {},
   "outputs": [],
   "source": [
    "is_point_on_arc(\"boulder\", \"boston\", \"rockford\", tolerance=0)"
   ]
  },
  {
   "cell_type": "code",
   "execution_count": null,
   "metadata": {},
   "outputs": [],
   "source": [
    "plot_cross_track(start_point=\"boulder\", end_point=\"boston\", new_point=\"rockford\")"
   ]
  },
  {
   "cell_type": "code",
   "execution_count": null,
   "metadata": {},
   "outputs": [],
   "source": [
    "plot_cross_track(start_point=\"boulder\", end_point=\"boston\", new_point=\"rockford\", \n",
    "                 lon_west=-95, lon_east=-85,\n",
    "                 lat_south=40, lat_north=45)"
   ]
  },
  {
   "cell_type": "code",
   "execution_count": null,
   "metadata": {},
   "outputs": [],
   "source": [
    "# increase tolerance to capture point\n",
    "print(\"tolerance = 0\")\n",
    "print(is_point_on_arc(\"boulder\", \"boston\", \"rockford\", tolerance=0))\n",
    "print(\"\\ntolerance >= cross-track distance\")\n",
    "print(is_point_on_arc(\"boulder\", \"boston\", \"rockford\", tolerance=18202))"
   ]
  },
  {
   "cell_type": "markdown",
   "metadata": {},
   "source": [
    "---"
   ]
  },
  {
   "cell_type": "markdown",
   "metadata": {},
   "source": [
    "## Summary\n",
    "Calculating and plotting the cross-track and along-trackd distance of a great circle arc/path and a point.\n",
    "\n",
    "### What's next?\n",
    "\n",
    "Determine when a great circle path crosses a given parallel and the maximum and minimum latitude coordinates of a great circle path."
   ]
  },
  {
   "cell_type": "markdown",
   "metadata": {},
   "source": [
    "## Resources and references"
   ]
  },
  {
   "cell_type": "markdown",
   "metadata": {},
   "source": [
    "- [Aviation Formulary V1.47](https://edwilliams.org/avform147.htm)\n",
    "- [Moveable Type Script](https://www.movable-type.co.uk/scripts/latlong.html)"
   ]
  }
 ],
 "metadata": {
  "kernelspec": {
   "display_name": "Python 3 (ipykernel)",
   "language": "python",
   "name": "python3"
  },
  "language_info": {
   "codemirror_mode": {
    "name": "ipython",
    "version": 3
   },
   "file_extension": ".py",
   "mimetype": "text/x-python",
   "name": "python",
   "nbconvert_exporter": "python",
   "pygments_lexer": "ipython3",
   "version": "3.12.7"
  },
  "nbdime-conflicts": {
   "local_diff": [
    {
     "diff": [
      {
       "diff": [
        {
         "key": 0,
         "op": "addrange",
         "valuelist": [
          "Python 3"
         ]
        },
        {
         "key": 0,
         "length": 1,
         "op": "removerange"
        }
       ],
       "key": "display_name",
       "op": "patch"
      }
     ],
     "key": "kernelspec",
     "op": "patch"
    }
   ],
   "remote_diff": [
    {
     "diff": [
      {
       "diff": [
        {
         "key": 0,
         "op": "addrange",
         "valuelist": [
          "Python3"
         ]
        },
        {
         "key": 0,
         "length": 1,
         "op": "removerange"
        }
       ],
       "key": "display_name",
       "op": "patch"
      }
     ],
     "key": "kernelspec",
     "op": "patch"
    }
   ]
  },
  "toc-autonumbering": false
 },
 "nbformat": 4,
 "nbformat_minor": 4
}
