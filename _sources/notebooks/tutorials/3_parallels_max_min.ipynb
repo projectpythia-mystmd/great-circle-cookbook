{
 "cells": [
  {
   "cell_type": "markdown",
   "metadata": {},
   "source": [
    "<img src=\"https://cdn1.byjus.com/wp-content/uploads/blog/2021/01/21071038/giphy-1.gif\" alt=\"Ship on waves gif\"></img>"
   ]
  },
  {
   "cell_type": "markdown",
   "metadata": {},
   "source": [
    "# Great Circles and Parallels"
   ]
  },
  {
   "cell_type": "markdown",
   "metadata": {},
   "source": [
    "---"
   ]
  },
  {
   "cell_type": "markdown",
   "metadata": {},
   "source": [
    "## Overview\n",
    "\n",
    "A valid great circle path (that is not a path around the equator) will cross a maximum and minimum latitude.\n",
    "\n",
    "1. Determine the maximum latitude on a Great Circle Path\n",
    "1. Determine the minimum latitude on a Great Great path\n",
    "1. _Determine when a great circle path crosses parallels (TODO)_"
   ]
  },
  {
   "cell_type": "markdown",
   "metadata": {},
   "source": [
    "## Prerequisites\n",
    "\n",
    "| Concepts | Importance | Notes |\n",
    "| --- | --- | --- |\n",
    "| [Numpy](https://foundations.projectpythia.org/core/numpy.html) | Necessary | Used to work with large arrays |\n",
    "| [Pandas](https://foundations.projectpythia.org/core/numpy.html) | Necessary | Used to read in and organize data (in particular dataframes) |\n",
    "| [Intro to Cartopy](https://foundations.projectpythia.org/core/cartopy/cartopy.html) | Helpful | Will be used for adding maps to plotting |\n",
    "| [Matplotlib](https://foundations.projectpythia.org/core/matplotlib.html) | Helpful | Will be used for plotting |\n",
    "\n",
    "- **Time to learn**: 30 minutes"
   ]
  },
  {
   "cell_type": "markdown",
   "metadata": {},
   "source": [
    "---"
   ]
  },
  {
   "cell_type": "markdown",
   "metadata": {},
   "source": [
    "## Imports\n",
    "\n",
    "- Import Packages\n",
    "- Setup location dataframe with coordinates"
   ]
  },
  {
   "cell_type": "code",
   "execution_count": null,
   "metadata": {},
   "outputs": [],
   "source": [
    "import pandas as pd       # reading in data for location information from text file\n",
    "import numpy as np        # working with arrays, vectors, cross/dot products, and radians\n",
    "\n",
    "from pyproj import Geod   # working with the Earth as an ellipsod (WGS-84)\n",
    "\n",
    "import matplotlib.pyplot as plt                        # plotting a graph\n",
    "from cartopy import crs as ccrs, feature as cfeature   # plotting a world map"
   ]
  },
  {
   "cell_type": "code",
   "execution_count": null,
   "metadata": {},
   "outputs": [],
   "source": [
    "# Get all Coordinates for Locations\n",
    "location_df = pd.read_csv(\"../location_full_coords.txt\")\n",
    "location_df = location_df.rename(columns=lambda x: x.strip()) # strip excess white space from column names and values\n",
    "location_df.head()"
   ]
  },
  {
   "cell_type": "code",
   "execution_count": null,
   "metadata": {},
   "outputs": [],
   "source": [
    "location_df.index = location_df[\"name\"]"
   ]
  },
  {
   "cell_type": "markdown",
   "metadata": {},
   "source": [
    "## Maximum Latitude on a Great Circle Path"
   ]
  },
  {
   "cell_type": "markdown",
   "metadata": {},
   "source": [
    "We have previously determined an equation to derive a great circle path from intermediate points from two points on a great circle arc.\n",
    "\n",
    "Without additional calculations, we can use a list of points along the great circle path to find the maximum location of the maximum and minimum. \n",
    "\n",
    "By default, the equation below will determine 360 points along longitude, so the output will only have a resolution of 1 degree. However, by defining the longitude with more points, the resolution increases."
   ]
  },
  {
   "cell_type": "code",
   "execution_count": null,
   "metadata": {},
   "outputs": [],
   "source": [
    "# Generate Latitude Coordinates based on Longitude Coordinates\n",
    "def generate_latitude_along_gc(start_point=None, end_point=None, number_of_lon_pts=360):\n",
    "    lon1 = np.deg2rad(location_df.loc[start_point, \"longitude\"])\n",
    "    lat1 = np.deg2rad(location_df.loc[start_point, \"latitude\"])\n",
    "    lon2 = np.deg2rad(location_df.loc[end_point, \"longitude\"])\n",
    "    lat2 = np.deg2rad(location_df.loc[end_point, \"latitude\"])\n",
    "\n",
    "    # Verify not meridian (longitude passes through the poles)\n",
    "    if np.sin(lon1 - lon2) == 0:\n",
    "        print(\"Invalid inputs: start/end points are meridians\")\n",
    "        # plotting meridians at 0 longitude through all latitudes\n",
    "        meridian_lat = np.arange(-90, 90, 180/len(longitude_lst)) # split in n number\n",
    "        meridians = []\n",
    "        for lat in meridian_lat:\n",
    "            meridians.append((lat, 0))\n",
    "        return meridians\n",
    "\n",
    "    # verify not anitpodal (diametrically opposite, points)\n",
    "    if lat1 + lat2 == 0 and abs(lon1-lon2) == np.pi:\n",
    "        print(\"Invalid inputs: start/end points are antipodal\")\n",
    "        return []\n",
    "\n",
    "    # note: can be expanded to handle input of np arrays by filter out antipodal/merdiain points\n",
    "\n",
    "    # generate n total number of longitude points along the great circle\n",
    "    # https://github.com/rspatial/geosphere/blob/master/R/greatCircle.R#L18C3-L18C7\n",
    "    gc_lon_lst = []\n",
    "    for lon in range(1, number_of_lon_pts+1):\n",
    "        new_lon = (lon  * (360/number_of_lon_pts) - 180)\n",
    "        gc_lon_lst.append(np.deg2rad(new_lon))\n",
    "\n",
    "    # Intermediate points on a great circle: https://edwilliams.org/avform147.htm\"\n",
    "    gc_lat_lon = []\n",
    "    for gc_lon in gc_lon_lst:\n",
    "        num = np.sin(lat1)*np.cos(lat2)*np.sin(gc_lon-lon2)-np.sin(lat2)*np.cos(lat1)*np.sin(gc_lon-lon1)\n",
    "        den = np.cos(lat1)*np.cos(lat2)*np.sin(lon1-lon2)\n",
    "        new_lat = np.arctan(num/den)\n",
    "        gc_lat_lon.append((np.rad2deg(new_lat), np.rad2deg(gc_lon)))\n",
    "    return gc_lat_lon"
   ]
  },
  {
   "cell_type": "code",
   "execution_count": null,
   "metadata": {},
   "outputs": [],
   "source": [
    "lat_lon = generate_latitude_along_gc(\"boulder\", \"boston\", number_of_lon_pts=360)\n",
    "print(f\"Max Latitude (within 1 degree): {max(lat_lon, key=lambda x:x[0])}\")"
   ]
  },
  {
   "cell_type": "code",
   "execution_count": null,
   "metadata": {},
   "outputs": [],
   "source": [
    "lat_lon = generate_latitude_along_gc(\"boulder\", \"boston\", number_of_lon_pts=720)\n",
    "print(f\"Max Latitude (within 0.5 degree): {max(lat_lon, key=lambda x:x[0])}\")"
   ]
  },
  {
   "cell_type": "code",
   "execution_count": null,
   "metadata": {},
   "outputs": [],
   "source": [
    "lat_lon = generate_latitude_along_gc(\"boulder\", \"boston\", number_of_lon_pts=1080)\n",
    "print(f\"Max Latitude (within 0.3 degree): {max(lat_lon, key=lambda x:x[0])}\")"
   ]
  },
  {
   "cell_type": "markdown",
   "metadata": {},
   "source": [
    "### Plot Maximum"
   ]
  },
  {
   "cell_type": "code",
   "execution_count": null,
   "metadata": {},
   "outputs": [],
   "source": [
    "def plot_coordinate_max_min(great_circle_pts=None,\n",
    "                            max_coord=None, min_coord=None,\n",
    "                            title=None):\n",
    "    # Set up world map plot\n",
    "    fig = plt.subplots(figsize=(15, 10))\n",
    "    projection_map = ccrs.PlateCarree()\n",
    "    ax = plt.axes(projection=projection_map)\n",
    "    lon_west, lon_east, lat_south, lat_north = -180, 180, -90, 90\n",
    "    ax.set_extent([lon_west, lon_east, lat_south, lat_north], crs=projection_map)\n",
    "    ax.coastlines(color=\"black\")\n",
    "    ax.add_feature(cfeature.STATES, edgecolor=\"black\")\n",
    "    \n",
    "    # Plot Great Circle Latitude/Longitude Location\n",
    "    longitudes = [x[1] for x in great_circle_pts] # longitude\n",
    "    latitudes = [x[0] for x in great_circle_pts] # latitude\n",
    "    plt.plot(longitudes, latitudes)\n",
    "\n",
    "    # Overly Max/Min Coordinates\n",
    "    if max_coord is not None:\n",
    "        plt.scatter([max_coord[1]], [max_coord[0]], s=100, c=\"red\")\n",
    "    if min_coord is not None:\n",
    "        plt.scatter([min_coord[1]], [min_coord[0]], s=100, c=\"green\")\n",
    "    \n",
    "    # Setup Axis Limits and Title/Labels\n",
    "    plt.title(title)\n",
    "    plt.show()"
   ]
  },
  {
   "cell_type": "code",
   "execution_count": null,
   "metadata": {},
   "outputs": [],
   "source": [
    "gc_lat_lon = generate_latitude_along_gc(\"boulder\", \"boston\", number_of_lon_pts=360)\n",
    "max_lat_lon = max(gc_lat_lon, key=lambda x:x[0])\n",
    "plot_coordinate_max_min(great_circle_pts=gc_lat_lon,\n",
    "                            max_coord=max_lat_lon,\n",
    "                            title=f\"Max Latitude located at {max_lat_lon}\")"
   ]
  },
  {
   "cell_type": "code",
   "execution_count": null,
   "metadata": {},
   "outputs": [],
   "source": [
    "gc_lat_lon = generate_latitude_along_gc(\"boulder\", \"houston\", number_of_lon_pts=360)\n",
    "max_lat_lon = max(gc_lat_lon, key=lambda x:x[0])\n",
    "plot_coordinate_max_min(great_circle_pts=gc_lat_lon,\n",
    "                            max_coord=max_lat_lon,\n",
    "                            title=f\"Max Latitude located at {max_lat_lon}\")"
   ]
  },
  {
   "cell_type": "markdown",
   "metadata": {},
   "source": [
    "### Maximumn Latitude from Clairaut's Formula\n",
    "\n",
    "[Clairaut's Formula](https://en.wikipedia.org/wiki/Clairaut%27s_relation_(differential_geometry)) (Clairaut's equation or Clairaut's relation) is a differential equation which defines the relationship between the latitude, φ, and the true course (bearing, θ) where:\n",
    "\n",
    "$$sin(θ) * cos(φ) = \\text{constant}$$\n",
    "\n",
    "So, for any two points (A and B) along the great circle:\n",
    "\n",
    "$$sin(θA) * cos(φA) = sin(θB) * cos(φB)$$\n",
    "\n",
    "So, to solve for the maximum latitude the true course should be when 90 and 270 degrees on the unit sphere where for *any* bearing/latitude along the great circle:\n",
    "\n",
    "$$\\text{max latitude} = acos(|sin(θ) * cos(φ)|)$$\n",
    "\n",
    "For the purpose of this example, we will use `pyproj` geodesic to determine the bearing based on a great circle arc, but consult previous sections if you want to determine bearing mathetically based on the unit sphere instead of the ellipsoid.\n",
    "\n",
    "**Important Note**\n",
    "\n",
    "Clairaut's Formula works from unit sphere, and as a result, is subject to errors (about 3%, about +/- 11 degrees).\n",
    "\n",
    "- [Ed Williams: Clairaut's Formula](https://edwilliams.org/avform147.htm#Clairaut)"
   ]
  },
  {
   "cell_type": "code",
   "execution_count": null,
   "metadata": {},
   "outputs": [],
   "source": [
    "def clairaut_formula_max(start_point=None, end_point=None):\n",
    "    geodesic = Geod(ellps=\"WGS84\")\n",
    "    fwd_bearing, _, _ =  geodesic.inv(location_df.loc[start_point, \"longitude\"],\n",
    "                                      location_df.loc[start_point, \"latitude\"],\n",
    "                                      location_df.loc[end_point, \"longitude\"],\n",
    "                                      location_df.loc[end_point, \"latitude\"])\n",
    "    # Clairaut\n",
    "    start_lat = np.deg2rad(location_df.loc[start_point, \"longitude\"])\n",
    "    max_lat = np.arccos(np.abs(np.sin(fwd_bearing) * np.cos(start_lat)))\n",
    "    return np.rad2deg(max_lat)"
   ]
  },
  {
   "cell_type": "code",
   "execution_count": null,
   "metadata": {},
   "outputs": [],
   "source": [
    "max_lat = clairaut_formula_max(\"boulder\", \"boston\")\n",
    "print(f\"Max latitude from Boulder to Boston: {max_lat}\")"
   ]
  },
  {
   "cell_type": "markdown",
   "metadata": {},
   "source": [
    "## Minimum Latitude on a Great Circle Path"
   ]
  },
  {
   "cell_type": "markdown",
   "metadata": {},
   "source": [
    "### Antipodal Point of Max (TODO)"
   ]
  },
  {
   "cell_type": "code",
   "execution_count": null,
   "metadata": {},
   "outputs": [],
   "source": [
    "def antipodal(latitude=None, longitude=None):\n",
    "    anti_lat = -1 * latitude\n",
    "    if longitude > 0:\n",
    "        anti_lon = longitude - 180\n",
    "    else:\n",
    "        anti_lon = longitude + 180\n",
    "    return (anti_lat, anti_lon)"
   ]
  },
  {
   "cell_type": "markdown",
   "metadata": {},
   "source": [
    "Like finding maximum from a list of great circle path, the smallest latitude can be found by analysing the list for the smallest latitude point."
   ]
  },
  {
   "cell_type": "code",
   "execution_count": null,
   "metadata": {},
   "outputs": [],
   "source": [
    "gc_lat_lon = generate_latitude_along_gc(\"boulder\", \"houston\", number_of_lon_pts=360)\n",
    "max_lat_lon = max(gc_lat_lon, key=lambda x:x[0])\n",
    "print(max_lat_lon)\n",
    "antipodal(max_lat_lon[0], max_lat_lon[1])"
   ]
  },
  {
   "cell_type": "markdown",
   "metadata": {},
   "source": [
    "### Minimum Latitude along Great Circle Path"
   ]
  },
  {
   "cell_type": "code",
   "execution_count": null,
   "metadata": {},
   "outputs": [],
   "source": [
    "lat_lon = generate_latitude_along_gc(\"boulder\", \"boston\", number_of_lon_pts=360)\n",
    "print(f\"Min Latitude (within 1 degree): {min(lat_lon, key=lambda x:x[0])}\")"
   ]
  },
  {
   "cell_type": "code",
   "execution_count": null,
   "metadata": {},
   "outputs": [],
   "source": [
    "lat_lon = generate_latitude_along_gc(\"boulder\", \"boston\", number_of_lon_pts=720)\n",
    "print(f\"Min Latitude (within 0.5 degree): {min(lat_lon, key=lambda x:x[0])}\")"
   ]
  },
  {
   "cell_type": "code",
   "execution_count": null,
   "metadata": {},
   "outputs": [],
   "source": [
    "lat_lon = generate_latitude_along_gc(\"boulder\", \"boston\", number_of_lon_pts=1080)\n",
    "print(f\"Min Latitude (within 0.3 degree): {min(lat_lon, key=lambda x:x[0])}\")"
   ]
  },
  {
   "cell_type": "code",
   "execution_count": null,
   "metadata": {},
   "outputs": [],
   "source": [
    "gc_lat_lon = generate_latitude_along_gc(\"boulder\", \"boston\", number_of_lon_pts=360)\n",
    "min_lat_lon = min(gc_lat_lon, key=lambda x:x[0])\n",
    "plot_coordinate_max_min(great_circle_pts=gc_lat_lon,\n",
    "                            min_coord=min_lat_lon,\n",
    "                            title=f\"Min Latitude located at {min_lat_lon}\")"
   ]
  },
  {
   "cell_type": "markdown",
   "metadata": {},
   "source": [
    "### Maximumn Latitude from Clairaut's Formula\n",
    "\n",
    "To solve for the minimum, the true course should be when 0 and 180 degrees on the unit sphere where for *any* bearing/latitude along the great circle:\n",
    "\n",
    "$$\\text{min latitude} = asin(|sin(θ) * cos(φ)|)$$\n",
    "\n",
    "The southernmost point is the antipode to the northernmost (max) latitude."
   ]
  },
  {
   "cell_type": "code",
   "execution_count": null,
   "metadata": {},
   "outputs": [],
   "source": [
    "def clairaut_formula_min(start_point=None, end_point=None):\n",
    "    geodesic = Geod(ellps=\"WGS84\")\n",
    "    fwd_bearing, _, _ =  geodesic.inv(location_df.loc[start_point, \"longitude\"],\n",
    "                                      location_df.loc[start_point, \"latitude\"],\n",
    "                                      location_df.loc[end_point, \"longitude\"],\n",
    "                                      location_df.loc[end_point, \"latitude\"])\n",
    "    # Clairaut Formula\n",
    "    start_lat = np.deg2rad(location_df.loc[start_point, \"longitude\"])\n",
    "    min_lat = np.arcsin(np.abs(np.cos(fwd_bearing) * np.sin(start_lat)))\n",
    "    return np.rad2deg(min_lat)"
   ]
  },
  {
   "cell_type": "code",
   "execution_count": null,
   "metadata": {},
   "outputs": [],
   "source": [
    "min_lat = clairaut_formula_min(\"boulder\", \"boston\")\n",
    "print(f\"Min latitude along great circle path from Boulder to Boston: {min_lat}\")"
   ]
  },
  {
   "cell_type": "markdown",
   "metadata": {},
   "source": [
    "## Determine when great circle path cross parallels (TODO)\n",
    "\n",
    "Determine the longitude when a great circle crosses a given latitude parrellel."
   ]
  },
  {
   "cell_type": "markdown",
   "metadata": {},
   "source": [
    "---"
   ]
  },
  {
   "cell_type": "markdown",
   "metadata": {},
   "source": [
    "## Summary\n",
    "Determine the coordinates when a great circle path crosses a specific parallel as well as the maximumn and minimum latitude coordinates.\n",
    "\n",
    "### What's next?\n",
    "\n",
    "Intersections of Great Circles."
   ]
  },
  {
   "cell_type": "markdown",
   "metadata": {},
   "source": [
    "## Resources and references"
   ]
  },
  {
   "cell_type": "markdown",
   "metadata": {},
   "source": [
    "- [Aviation Formulary V1.47](https://edwilliams.org/avform147.htm)\n",
    "- [Moveable Type Script](https://www.movable-type.co.uk/scripts/latlong.html)"
   ]
  }
 ],
 "metadata": {
  "kernelspec": {
   "display_name": "Python 3 (ipykernel)",
   "language": "python",
   "name": "python3"
  },
  "language_info": {
   "codemirror_mode": {
    "name": "ipython",
    "version": 3
   },
   "file_extension": ".py",
   "mimetype": "text/x-python",
   "name": "python",
   "nbconvert_exporter": "python",
   "pygments_lexer": "ipython3",
   "version": "3.12.7"
  },
  "nbdime-conflicts": {
   "local_diff": [
    {
     "diff": [
      {
       "diff": [
        {
         "key": 0,
         "op": "addrange",
         "valuelist": [
          "Python 3"
         ]
        },
        {
         "key": 0,
         "length": 1,
         "op": "removerange"
        }
       ],
       "key": "display_name",
       "op": "patch"
      }
     ],
     "key": "kernelspec",
     "op": "patch"
    }
   ],
   "remote_diff": [
    {
     "diff": [
      {
       "diff": [
        {
         "key": 0,
         "op": "addrange",
         "valuelist": [
          "Python3"
         ]
        },
        {
         "key": 0,
         "length": 1,
         "op": "removerange"
        }
       ],
       "key": "display_name",
       "op": "patch"
      }
     ],
     "key": "kernelspec",
     "op": "patch"
    }
   ]
  },
  "toc-autonumbering": false
 },
 "nbformat": 4,
 "nbformat_minor": 4
}
