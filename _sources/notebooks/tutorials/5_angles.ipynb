{
 "cells": [
  {
   "cell_type": "markdown",
   "metadata": {},
   "source": [
    "<img src=\"https://upload.wikimedia.org/wikipedia/commons/4/4e/Pentagramma-mirificum.gif\" alt=\"Illustrating the spherical triangles forming the pentagramma mirificum on Wikipedia\"></img>"
   ]
  },
  {
   "cell_type": "markdown",
   "metadata": {},
   "source": [
    "# Angles and Great Circles"
   ]
  },
  {
   "cell_type": "markdown",
   "metadata": {},
   "source": [
    "---"
   ]
  },
  {
   "cell_type": "markdown",
   "metadata": {},
   "source": [
    "## Overview\n",
    "Angles are formed by the intersection of great circle paths.\n",
    "\n",
    "1. Calculate the acute and obtuse angle of two Great Circle paths\n",
    "1. Calculate the Directed Angle of two Great Circle paths based on an intersection point\n",
    "1. _Working with Spherical Triangles formed by great circle arcs (TODO)_"
   ]
  },
  {
   "cell_type": "markdown",
   "metadata": {},
   "source": [
    "## Prerequisites\n",
    "\n",
    "| Concepts | Importance | Notes |\n",
    "| --- | --- | --- |\n",
    "| [Numpy](https://foundations.projectpythia.org/core/numpy.html) | Necessary | Used to work with large arrays |\n",
    "| [Pandas](https://foundations.projectpythia.org/core/numpy.html) | Necessary | Used to read in and organize data (in particular dataframes) |\n",
    "| [Intro to Cartopy](https://foundations.projectpythia.org/core/cartopy/cartopy.html) | Helpful | Will be used for adding maps to plotting |\n",
    "| [Matplotlib](https://foundations.projectpythia.org/core/matplotlib.html) | Helpful | Will be used for plotting |\n",
    "\n",
    "- **Time to learn**: 40 minutes"
   ]
  },
  {
   "cell_type": "markdown",
   "metadata": {},
   "source": [
    "---"
   ]
  },
  {
   "cell_type": "markdown",
   "metadata": {},
   "source": [
    "## Imports\n",
    "\n",
    "- Import Packages\n",
    "- Setup location dataframe with coordinates"
   ]
  },
  {
   "cell_type": "code",
   "execution_count": null,
   "metadata": {},
   "outputs": [],
   "source": [
    "import pandas as pd       # reading in data for location information from text file\n",
    "import numpy as np        # working with arrays, vectors, cross/dot products, and radians\n",
    "\n",
    "from pyproj import Geod   # working with the Earth as an ellipsod (WGS-84)\n",
    "import geopy.distance     # working with the Earth as an ellipsod\n",
    "\n",
    "import matplotlib.pyplot as plt                        # plotting a graph\n",
    "from cartopy import crs as ccrs, feature as cfeature   # plotting a world map"
   ]
  },
  {
   "cell_type": "code",
   "execution_count": null,
   "metadata": {},
   "outputs": [],
   "source": [
    "# Get all Coordinates for Locations\n",
    "location_df = pd.read_csv(\"../location_full_coords.txt\")\n",
    "location_df = location_df.rename(columns=lambda x: x.strip()) # strip excess white space from column names and values\n",
    "location_df.head()"
   ]
  },
  {
   "cell_type": "code",
   "execution_count": null,
   "metadata": {},
   "outputs": [],
   "source": [
    "location_df.index = location_df[\"name\"]"
   ]
  },
  {
   "cell_type": "code",
   "execution_count": null,
   "metadata": {},
   "outputs": [],
   "source": [
    "location_df.loc[\"boulder\", \"latitude\"]"
   ]
  },
  {
   "cell_type": "markdown",
   "metadata": {},
   "source": [
    "## Calculate the acute and obtuse angle of two great circle paths\n",
    "\n",
    "The acute and obtuse angle formed by two great circle paths and an intersection point."
   ]
  },
  {
   "cell_type": "code",
   "execution_count": null,
   "metadata": {},
   "outputs": [],
   "source": [
    "def angle_between_arcs(start_gc1=None, end_gc1=None,\n",
    "                       start_gc2=None, end_gc2=None):\n",
    "    # get normal of planes containing great circles\n",
    "    normal_one = np.cross([location_df.loc[start_gc1, \"cart_x\"],\n",
    "                           location_df.loc[start_gc1, \"cart_y\"],\n",
    "                           location_df.loc[start_gc1, \"cart_z\"]],\n",
    "                          [location_df.loc[end_gc1, \"cart_x\"],\n",
    "                           location_df.loc[end_gc1, \"cart_y\"],\n",
    "                           location_df.loc[end_gc1,\"cart_z\"]])\n",
    "    normal_two = np.cross([location_df.loc[start_gc2, \"cart_x\"],\n",
    "                           location_df.loc[start_gc2, \"cart_y\"],\n",
    "                           location_df.loc[start_gc2, \"cart_z\"]],\n",
    "                          [location_df.loc[end_gc2, \"cart_x\"],\n",
    "                           location_df.loc[end_gc2, \"cart_y\"],\n",
    "                           location_df.loc[end_gc2,\"cart_z\"]])\n",
    "    # dot product to obtain the angle between the normal planes\n",
    "    angle_between_planes = np.dot(normal_one, normal_two)\n",
    "    # divide by the magnitude of the vectors, inverse of cos to find angle\n",
    "    angle = np.arccos(np.dot(normal_one, normal_two) / \n",
    "                    (np.linalg.norm(normal_one) * np.linalg.norm(normal_two)))\n",
    "    obtuse_acute_angle = (np.rad2deg(angle), ((360-(2*np.rad2deg(angle)))/2))\n",
    "    obtuse_angle = np.max(obtuse_acute_angle)\n",
    "    print(f\"Acute Angle  = {np.min(obtuse_acute_angle)} degrees\")\n",
    "    print(f\"Obtuse Angle = {np.max(obtuse_acute_angle)} degrees\")\n",
    "    return obtuse_acute_angle"
   ]
  },
  {
   "cell_type": "code",
   "execution_count": null,
   "metadata": {},
   "outputs": [],
   "source": [
    "angle_between_arcs(\"boulder\", \"boston\", \"johannesburg\", \"reykjavík\")"
   ]
  },
  {
   "cell_type": "markdown",
   "metadata": {},
   "source": [
    "## Calculate the Directed Angle of two Great Circle paths based on an intersection point\n",
    "\n",
    "Calculate the directed angle of two great circle paths based on an intersection point.\n",
    "\n",
    "### Overview of Directed Angles\n",
    "\n",
    "TODO\n",
    "\n",
    "`Finds the directed angle between two great circles defined by three points: A, B, C where A->B and A->C are arcs on the great circle (where A is where the arcs intersect`\n",
    "\n",
    "`Returned angle is positive if C is to the left of the great circles A->B`\n",
    "\n",
    "`Returned angle is negative if C is to the right of the great circles A->B`\n",
    "\n",
    "> Directed angle is in the standard position if it satistfies two conditions:\n",
    ">\n",
    "> Its vertex is the origin of rectangular coordinates system\n",
    "> Its initial side lies on the positive direction of the x-axis\n",
    ">\n",
    "> The directed angle resulting from an anticlockwise rotation has a positive measure\n",
    ">\n",
    "> The directed angle resulting from a clockwise rotation has a negative measure"
   ]
  },
  {
   "cell_type": "code",
   "execution_count": null,
   "metadata": {},
   "outputs": [],
   "source": [
    "def directed_angle(b_coords=None, c_coords=None, a_coords=None):\n",
    "    # determine cartesian_coordinates from intersect points\n",
    "    earth_radius = 6378137  # meters\n",
    "    latitude = np.deg2rad(a_coords[0])\n",
    "    longitude = np.deg2rad(a_coords[1])\n",
    "    cart_x = earth_radius * np.cos(latitude) * np.cos(longitude)\n",
    "    cart_y = earth_radius * np.cos(latitude) * np.sin(longitude)\n",
    "    cart_z = earth_radius * np.sin(latitude)\n",
    "\n",
    "    # get normal of planes containing great circles\n",
    "    normal_one = np.cross([cart_x,\n",
    "                           cart_y,\n",
    "                           cart_z],\n",
    "                          [location_df.loc[b_coords, \"cart_x\"],\n",
    "                           location_df.loc[b_coords, \"cart_y\"],\n",
    "                           location_df.loc[b_coords, \"cart_z\"]])\n",
    "    normal_two = np.cross([cart_x,\n",
    "                           cart_y,\n",
    "                           cart_z],\n",
    "                          [location_df.loc[c_coords, \"cart_x\"],\n",
    "                           location_df.loc[c_coords, \"cart_y\"],\n",
    "                           location_df.loc[c_coords, \"cart_z\"]])\n",
    "    # dot product to obtain the angle between the normal planes\n",
    "    angle_between_planes = np.dot(normal_one, normal_two)\n",
    "    # divide by the magnitude of the vectors, inverse of cos to find angle\n",
    "    angle = np.arccos(np.dot(normal_one, normal_two) / \n",
    "                    (np.linalg.norm(normal_one) * np.linalg.norm(normal_two)))\n",
    "    angle = np.rad2deg(angle)\n",
    "\n",
    "    # take the cross product of two vectors A->B and A->C\n",
    "    v_ab = np.array([[cart_x,\n",
    "                    cart_y,\n",
    "                    cart_z],\n",
    "                    [location_df.loc[b_coords, \"cart_x\"],\n",
    "                     location_df.loc[b_coords, \"cart_y\"],\n",
    "                     location_df.loc[b_coords, \"cart_z\"]]])\n",
    "    v_ac = np.array([[cart_x,\n",
    "                    cart_y,\n",
    "                    cart_z],\n",
    "                    [location_df.loc[c_coords, \"cart_x\"],\n",
    "                     location_df.loc[c_coords, \"cart_y\"],\n",
    "                     location_df.loc[c_coords, \"cart_z\"]]])\n",
    "\n",
    "    cross_prod = np.cross(v_ab, v_ac)\n",
    "    # inverse of the sign of the cross product\n",
    "    sign_angle = -1*np.sign(cross_prod[1][-1]) * angle\n",
    "    return sign_angle"
   ]
  },
  {
   "cell_type": "markdown",
   "metadata": {},
   "source": [
    "### Calculate Intersection Point Between Two Great Circle Paths \n",
    "\n",
    "See previous section for more details"
   ]
  },
  {
   "cell_type": "code",
   "execution_count": null,
   "metadata": {},
   "outputs": [],
   "source": [
    "def intersection_of_gc(start_gc1=None, end_gc1=None,\n",
    "                      start_gc2=None, end_gc2=None):\n",
    "    # get normal of planes containing great circles\n",
    "\n",
    "    # cross product of vectors\n",
    "    normal_one = np.cross([location_df.loc[start_gc1, \"cart_x\"],\n",
    "                           location_df.loc[start_gc1, \"cart_y\"],\n",
    "                           location_df.loc[start_gc1, \"cart_z\"]],\n",
    "                          [location_df.loc[end_gc1, \"cart_x\"],\n",
    "                           location_df.loc[end_gc1, \"cart_y\"],\n",
    "                           location_df.loc[end_gc1, \"cart_z\"]])\n",
    "    normal_two = np.cross([location_df.loc[start_gc2, \"cart_x\"],\n",
    "                           location_df.loc[start_gc2, \"cart_y\"],\n",
    "                           location_df.loc[start_gc2, \"cart_z\"]],\n",
    "                          [location_df.loc[end_gc2, \"cart_x\"],\n",
    "                           location_df.loc[end_gc2, \"cart_y\"],\n",
    "                           location_df.loc[end_gc2, \"cart_z\"]])\n",
    "    # intersection of planes, normal to the poles of each plane\n",
    "    line_of_intersection = np.cross(normal_one, normal_two)\n",
    "    # intersection points (one on each side of the earth)\n",
    "    x1 = line_of_intersection /  np.sqrt(line_of_intersection[0]**2 + line_of_intersection[1]**2 + line_of_intersection[2]**2) \n",
    "    x2 = -x1\n",
    "    lat1 = np.rad2deg(np.arctan2(x1[2], np.sqrt(pow(x1[0],2)+pow(x1[1],2))))\n",
    "    lon1 = np.rad2deg(np.arctan2(x1[1], x1[0]))\n",
    "    lat2 = np.rad2deg(np.arctan2(x2[2], np.sqrt(pow(x2[0],2)+pow(x2[1],2))))\n",
    "    lon2 = np.rad2deg(np.arctan2(x2[1], x2[0]))\n",
    "    return [(lat1, lon1), (lat2, lon2)]"
   ]
  },
  {
   "cell_type": "code",
   "execution_count": null,
   "metadata": {},
   "outputs": [],
   "source": [
    "intersect_pts = intersection_of_gc(\"boulder\", \"boston\", \"johannesburg\", \"reykjavík\")\n",
    "intersect_pts"
   ]
  },
  {
   "cell_type": "code",
   "execution_count": null,
   "metadata": {},
   "outputs": [],
   "source": [
    "# Arcs defined as A->B and A->C where A is the intersection\n",
    "directed_angle(a_coords=intersect_pts[0],\n",
    "               b_coords=\"boulder\",\n",
    "               c_coords=\"reykjavík\")"
   ]
  },
  {
   "cell_type": "code",
   "execution_count": null,
   "metadata": {},
   "outputs": [],
   "source": [
    "# Arcs defined as A->B and A->C where A is the intersection\n",
    "directed_angle(a_coords=intersect_pts[-1],\n",
    "               b_coords=\"boulder\",\n",
    "               c_coords=\"reykjavík\")"
   ]
  },
  {
   "cell_type": "markdown",
   "metadata": {},
   "source": [
    "### Plot Directed Angle\n",
    "\n",
    "Clockwise and Counterclockwise"
   ]
  },
  {
   "cell_type": "code",
   "execution_count": null,
   "metadata": {},
   "outputs": [],
   "source": [
    "# See previous section for more information\n",
    "\n",
    "# Generate Latitude Coordinates based on Longitude Coordinates\n",
    "def generate_latitude_along_gc(start_lat=None, start_lon=None,\n",
    "                               end_lat=None, end_lon=None,\n",
    "                               number_of_lon_pts=360):\n",
    "    lon1 = np.deg2rad(start_lon)\n",
    "    lat1 = np.deg2rad(start_lat)\n",
    "    lon2 = np.deg2rad(end_lon)\n",
    "    lat2 = np.deg2rad(end_lat)\n",
    "\n",
    "    # Verify not meridian (longitude passes through the poles)\n",
    "    if np.sin(lon1 - lon2) == 0:\n",
    "        print(\"Invalid inputs: start/end points are meridians\")\n",
    "        # plotting meridians at 0 longitude through all latitudes\n",
    "        meridian_lat = np.arange(-90, 90, 180/len(longitude_lst)) # split in n number\n",
    "        meridians = []\n",
    "        for lat in meridian_lat:\n",
    "            meridians.append((lat, 0))\n",
    "        return meridians\n",
    "\n",
    "    # verify not anitpodal (diametrically opposite, points)\n",
    "    if lat1 + lat2 == 0 and abs(lon1-lon2) == np.pi:\n",
    "        print(\"Invalid inputs: start/end points are antipodal\")\n",
    "        return []\n",
    "\n",
    "    # note: can be expanded to handle input of np arrays by filter out antipodal/merdiain points\n",
    "\n",
    "    # generate n total number of longitude points along the great circle\n",
    "    # https://github.com/rspatial/geosphere/blob/master/R/greatCircle.R#L18C3-L18C7\n",
    "    gc_lon_lst = []\n",
    "    for lon in range(1, number_of_lon_pts+1):\n",
    "        new_lon = (lon  * (360/number_of_lon_pts) - 180)\n",
    "        gc_lon_lst.append(np.deg2rad(new_lon))\n",
    "\n",
    "    # Intermediate points on a great circle: https://edwilliams.org/avform147.htm\"\n",
    "    gc_lat_lon = []\n",
    "    for gc_lon in gc_lon_lst:\n",
    "        num = np.sin(lat1)*np.cos(lat2)*np.sin(gc_lon-lon2)-np.sin(lat2)*np.cos(lat1)*np.sin(gc_lon-lon1)\n",
    "        den = np.cos(lat1)*np.cos(lat2)*np.sin(lon1-lon2)\n",
    "        new_lat = np.arctan(num/den)\n",
    "        gc_lat_lon.append((np.rad2deg(new_lat), np.rad2deg(gc_lon)))\n",
    "    return gc_lat_lon\n",
    "\n",
    "def interpolate_points_along_gc(lat_start=None, lon_start=None,\n",
    "                                lat_end=None, lon_end=None,\n",
    "                                distance_between_points_meter=0): \n",
    "    geodesic = Geod(ellps=\"WGS84\")\n",
    "    \n",
    "    lat_lon_points = [(lat_start, lon_start)]\n",
    "    \n",
    "    # move to next point when distance between points is less than the equal distance\n",
    "    move_to_next_point = True\n",
    "    while(move_to_next_point):\n",
    "        forward_bearing, _, distance_meters = geodesic.inv(lon_start,\n",
    "                                                            lat_start, \n",
    "                                                            lon_end,\n",
    "                                                            lat_end)\n",
    "        if distance_meters < distance_between_points_meter:\n",
    "            # ends before overshooting\n",
    "            move_to_next_point = False\n",
    "        else:\n",
    "            start_point = geopy.Point(lat_start, lon_start)\n",
    "            distance_to_move = geopy.distance.distance(\n",
    "                            kilometers=distance_between_points_meter /\n",
    "                            1000)  # distance to move towards the next point\n",
    "            final_position = distance_to_move.destination(\n",
    "                            start_point, bearing=forward_bearing)\n",
    "            lat_lon_points.append((final_position.latitude, final_position.longitude))\n",
    "            # new starting position is newly found end position\n",
    "            lon_start, lat_start = final_position.longitude, final_position.latitude\n",
    "    lat_lon_points.append((lat_end, lon_end))\n",
    "    return lat_lon_points\n",
    "\n",
    "def arc_points(start_lat=None, start_lon=None,\n",
    "               end_lat=None, end_lon=None,\n",
    "               n_total_points=10):\n",
    "\n",
    "    geodesic = Geod(ellps=\"WGS84\")\n",
    "\n",
    "    _, _, distance_meter =  geodesic.inv(start_lon,\n",
    "                                        start_lat,\n",
    "                                        end_lon,\n",
    "                                        end_lat)\n",
    "        \n",
    "    distance_between_points_meter = distance_meter / (n_total_points + 1)\n",
    "\n",
    "    \n",
    "    points_along_arc = interpolate_points_along_gc(start_lat, start_lon,\n",
    "                                                   end_lat, end_lon,\n",
    "                                                    distance_between_points_meter)\n",
    "    return points_along_arc"
   ]
  },
  {
   "cell_type": "code",
   "execution_count": null,
   "metadata": {},
   "outputs": [],
   "source": [
    "def plot_gc_directed_angle(a_coords=None, b_coords=None,c_coords=None,\n",
    "                           angle=None,\n",
    "                           lon_west=-180, lon_east=180,\n",
    "                           lat_south=-90, lat_north=90):\n",
    "    # A = intersect point\n",
    "    # A->B and A->C where C is the angle to determine sign\n",
    "\n",
    "    # Set up world map plot\n",
    "    fig = plt.subplots(figsize=(15, 10))\n",
    "    projection_map = ccrs.PlateCarree()\n",
    "    ax = plt.axes(projection=projection_map)\n",
    "    ax.set_extent([lon_west, lon_east, lat_south, lat_north], crs=projection_map)\n",
    "    ax.coastlines(color=\"black\")\n",
    "    ax.add_feature(cfeature.STATES, edgecolor=\"black\")\n",
    "\n",
    "    # Plot Great Circle Path\n",
    "    gc_one_lat_pts = generate_latitude_along_gc(start_lat=a_coords[0],\n",
    "                                                start_lon=a_coords[1],\n",
    "                                                end_lat=location_df.loc[b_coords, \"latitude\"],\n",
    "                                                end_lon=location_df.loc[b_coords, \"longitude\"])\n",
    "    longitudes = [x[1] for x in gc_one_lat_pts] # longitude\n",
    "    latitudes = [x[0] for x in gc_one_lat_pts] # latitude\n",
    "    plt.plot(longitudes, latitudes)\n",
    "    gc_two_lat_pts =  generate_latitude_along_gc(start_lat=a_coords[0],\n",
    "                                                start_lon=a_coords[1],\n",
    "                                                end_lat=location_df.loc[c_coords, \"latitude\"],\n",
    "                                                end_lon=location_df.loc[c_coords, \"longitude\"])\n",
    "    longitudes = [x[1] for x in gc_two_lat_pts] # longitude\n",
    "    latitudes = [x[0] for x in gc_two_lat_pts] # latitude\n",
    "    plt.plot(longitudes, latitudes)\n",
    "\n",
    "    # Plot Great Circle Arc\n",
    "    gc_one_arc_pts = arc_points(start_lat=a_coords[0],\n",
    "                               start_lon=a_coords[1],\n",
    "                               end_lat=location_df.loc[b_coords, \"latitude\"],\n",
    "                               end_lon=location_df.loc[b_coords, \"longitude\"])\n",
    "    longitudes = [x[1] for x in gc_one_arc_pts] # longitude\n",
    "    latitudes = [x[0] for x in gc_one_arc_pts] # latitude\n",
    "    plt.plot(longitudes, latitudes, c=\"pink\")\n",
    "    gc_two_arc_pts = arc_points(start_lat=a_coords[0],\n",
    "                               start_lon=a_coords[1],\n",
    "                               end_lat=location_df.loc[c_coords, \"latitude\"],\n",
    "                               end_lon=location_df.loc[c_coords, \"longitude\"])\n",
    "    longitudes = [x[1] for x in gc_two_arc_pts] # longitude\n",
    "    latitudes = [x[0] for x in gc_two_arc_pts] # latitude\n",
    "    plt.plot(longitudes, latitudes, c=\"green\")\n",
    "\n",
    "    # plot A, B, C points in different colors\n",
    "    fz = 30\n",
    "    offset = 3\n",
    "    plt.scatter(a_coords[1], a_coords[0], s=100, c=\"red\", label=\"A\")\n",
    "    ax.annotate(\"A\", (a_coords[1]+offset, a_coords[0]+offset), fontsize=fz)\n",
    "    plt.scatter(location_df.loc[b_coords, \"longitude\"],\n",
    "               location_df.loc[b_coords, \"latitude\"],\n",
    "                s=100, c=\"blue\", label=\"B\")\n",
    "    ax.annotate(\"B\", (location_df.loc[b_coords, \"longitude\"]-(4*offset),\n",
    "                      location_df.loc[b_coords, \"latitude\"]-offset),\n",
    "                        fontsize=fz)\n",
    "    plt.scatter(location_df.loc[c_coords, \"longitude\"],\n",
    "                location_df.loc[c_coords, \"latitude\"], \n",
    "                s=100, c=\"cyan\", label=\"C\")\n",
    "    ax.annotate(\"C\", (location_df.loc[c_coords, \"longitude\"]+offset,\n",
    "                      location_df.loc[c_coords, \"latitude\"]+offset),\n",
    "                        fontsize=fz)\n",
    "    ax.quiver(location_df.loc[b_coords, \"longitude\"],\n",
    "              location_df.loc[b_coords, \"latitude\"], \n",
    "              (location_df.loc[c_coords, \"longitude\"]-location_df.loc[b_coords, \"longitude\"]), \n",
    "              (location_df.loc[c_coords, \"latitude\"]-location_df.loc[b_coords, \"latitude\"]), \n",
    "              angles='xy', scale_units='xy', scale=1)    \n",
    "    \n",
    "    if angle > 0: \n",
    "        sign = \"Counterclockwise\"\n",
    "    if angle < 0: \n",
    "        sign = \"Clockwise\"\n",
    "    if angle == 0:\n",
    "        sign = \"Colinear\"\n",
    "    plt.title(f\"Direction = {sign}, {angle}\")\n",
    "    plt.legend()\n",
    "    plt.show()"
   ]
  },
  {
   "cell_type": "code",
   "execution_count": null,
   "metadata": {},
   "outputs": [],
   "source": [
    "# Arcs defined as A->B and A->C where A is the intersection\n",
    "intersect_pts = intersection_of_gc(\"boulder\", \"boston\", \"reykjavík\", \"johannesburg\")\n",
    "\n",
    "direct_angle = directed_angle(a_coords=intersect_pts[0],\n",
    "                              b_coords=\"boulder\",\n",
    "                              c_coords=\"reykjavík\")\n",
    "\n",
    "plot_gc_directed_angle(a_coords=intersect_pts[0],\n",
    "                       b_coords=\"boulder\",\n",
    "                       c_coords=\"reykjavík\",\n",
    "                       angle=direct_angle)"
   ]
  },
  {
   "cell_type": "code",
   "execution_count": null,
   "metadata": {},
   "outputs": [],
   "source": [
    "# Arcs defined as A->B and A->C where A is the intersection\n",
    "intersect_pts = intersection_of_gc(\"boulder\", \"boston\", \"reykjavík\", \"johannesburg\")\n",
    "\n",
    "direct_angle = directed_angle(a_coords=intersect_pts[-1],\n",
    "                              b_coords=\"boulder\",\n",
    "                              c_coords=\"reykjavík\")\n",
    "\n",
    "plot_gc_directed_angle(a_coords=intersect_pts[-1],\n",
    "                       b_coords=\"boulder\",\n",
    "                       c_coords=\"reykjavík\",\n",
    "                       angle=direct_angle)"
   ]
  },
  {
   "cell_type": "code",
   "execution_count": null,
   "metadata": {},
   "outputs": [],
   "source": [
    "# Arcs defined as A->B and A->C where A is the intersection\n",
    "intersect_pts = intersection_of_gc(\"zambezi\", \"boston\", \"greenwich\", \"johannesburg\")\n",
    "\n",
    "direct_angle = directed_angle(a_coords=intersect_pts[0],\n",
    "                              b_coords=\"zambezi\",\n",
    "                              c_coords=\"greenwich\")\n",
    "\n",
    "plot_gc_directed_angle(a_coords=intersect_pts[0],\n",
    "                       b_coords=\"zambezi\",\n",
    "                       c_coords=\"reykjavík\",\n",
    "                       angle=direct_angle)"
   ]
  },
  {
   "cell_type": "code",
   "execution_count": null,
   "metadata": {},
   "outputs": [],
   "source": [
    "# Arcs defined as A->B and A->C where A is the intersection\n",
    "intersect_pts = intersection_of_gc(\"zambezi\", \"boston\", \"greenwich\", \"johannesburg\")\n",
    "\n",
    "direct_angle = directed_angle(a_coords=intersect_pts[-1],\n",
    "                              b_coords=\"zambezi\",\n",
    "                              c_coords=\"greenwich\")\n",
    "\n",
    "plot_gc_directed_angle(a_coords=intersect_pts[-1],\n",
    "                       b_coords=\"zambezi\",\n",
    "                       c_coords=\"reykjavík\",\n",
    "                       angle=direct_angle)"
   ]
  },
  {
   "cell_type": "markdown",
   "metadata": {},
   "source": [
    "### Working with Spherical Triangles formed by great circle arcs (TODO)"
   ]
  },
  {
   "cell_type": "markdown",
   "metadata": {},
   "source": [
    "---"
   ]
  },
  {
   "cell_type": "markdown",
   "metadata": {},
   "source": [
    "## Summary\n",
    "TODO\n",
    "\n",
    "### What's next?\n",
    "\n",
    "Spherical Polygons and Areas"
   ]
  },
  {
   "cell_type": "markdown",
   "metadata": {},
   "source": [
    "## Resources and references"
   ]
  },
  {
   "cell_type": "code",
   "execution_count": null,
   "metadata": {},
   "outputs": [],
   "source": []
  }
 ],
 "metadata": {
  "kernelspec": {
   "display_name": "Python 3 (ipykernel)",
   "language": "python",
   "name": "python3"
  },
  "language_info": {
   "codemirror_mode": {
    "name": "ipython",
    "version": 3
   },
   "file_extension": ".py",
   "mimetype": "text/x-python",
   "name": "python",
   "nbconvert_exporter": "python",
   "pygments_lexer": "ipython3",
   "version": "3.12.7"
  },
  "nbdime-conflicts": {
   "local_diff": [
    {
     "diff": [
      {
       "diff": [
        {
         "key": 0,
         "op": "addrange",
         "valuelist": [
          "Python 3"
         ]
        },
        {
         "key": 0,
         "length": 1,
         "op": "removerange"
        }
       ],
       "key": "display_name",
       "op": "patch"
      }
     ],
     "key": "kernelspec",
     "op": "patch"
    }
   ],
   "remote_diff": [
    {
     "diff": [
      {
       "diff": [
        {
         "key": 0,
         "op": "addrange",
         "valuelist": [
          "Python3"
         ]
        },
        {
         "key": 0,
         "length": 1,
         "op": "removerange"
        }
       ],
       "key": "display_name",
       "op": "patch"
      }
     ],
     "key": "kernelspec",
     "op": "patch"
    }
   ]
  },
  "toc-autonumbering": false
 },
 "nbformat": 4,
 "nbformat_minor": 4
}
